{
 "cells": [
  {
   "cell_type": "code",
   "execution_count": null,
   "id": "dc6841dc",
   "metadata": {},
   "outputs": [],
   "source": [
    "pip install wordcloud --user"
   ]
  },
  {
   "cell_type": "code",
   "execution_count": null,
   "id": "22bde05d",
   "metadata": {},
   "outputs": [],
   "source": [
    "pip install seaborn --user"
   ]
  },
  {
   "cell_type": "code",
   "execution_count": 1,
   "id": "b310b506",
   "metadata": {},
   "outputs": [],
   "source": [
    "# Load and preprocess the dataset\n",
    "import pandas as pd\n",
    "import numpy as np\n",
    "import nltk\n",
    "from nltk.tokenize import word_tokenize\n",
    "from nltk.stem import WordNetLemmatizer\n",
    "from nltk.corpus import stopwords\n",
    "from sklearn.feature_extraction.text import TfidfVectorizer\n",
    "from sklearn.cluster import KMeans\n",
    "import matplotlib.pyplot as plt\n",
    "import seaborn as sns\n",
    "from datetime import datetime\n",
    "from sklearn.preprocessing import StandardScaler\n",
    "\n",
    "import wordcloud\n",
    "from sklearn.feature_extraction.text import CountVectorizer\n",
    "from sklearn.decomposition import NMF, TruncatedSVD\n",
    "from sklearn.metrics import silhouette_score\n",
    "from wordcloud import WordCloud\n",
    "from sklearn.manifold import TSNE\n",
    "\n",
    "import warnings\n",
    "warnings.filterwarnings('ignore')"
   ]
  },
  {
   "cell_type": "code",
   "execution_count": 2,
   "id": "d29dc31a",
   "metadata": {},
   "outputs": [
    {
     "data": {
      "text/html": [
       "<div>\n",
       "<style scoped>\n",
       "    .dataframe tbody tr th:only-of-type {\n",
       "        vertical-align: middle;\n",
       "    }\n",
       "\n",
       "    .dataframe tbody tr th {\n",
       "        vertical-align: top;\n",
       "    }\n",
       "\n",
       "    .dataframe thead th {\n",
       "        text-align: right;\n",
       "    }\n",
       "</style>\n",
       "<table border=\"1\" class=\"dataframe\">\n",
       "  <thead>\n",
       "    <tr style=\"text-align: right;\">\n",
       "      <th></th>\n",
       "      <th>ReviewID</th>\n",
       "      <th>Review</th>\n",
       "    </tr>\n",
       "  </thead>\n",
       "  <tbody>\n",
       "    <tr>\n",
       "      <th>0</th>\n",
       "      <td>1</td>\n",
       "      <td>'</td>\n",
       "    </tr>\n",
       "    <tr>\n",
       "      <th>1</th>\n",
       "      <td>2</td>\n",
       "      <td>' (</td>\n",
       "    </tr>\n",
       "    <tr>\n",
       "      <th>2</th>\n",
       "      <td>3</td>\n",
       "      <td>' ( the cockettes</td>\n",
       "    </tr>\n",
       "    <tr>\n",
       "      <th>3</th>\n",
       "      <td>4</td>\n",
       "      <td>' ( the cockettes )</td>\n",
       "    </tr>\n",
       "    <tr>\n",
       "      <th>4</th>\n",
       "      <td>5</td>\n",
       "      <td>' ( the cockettes ) provides a window into a s...</td>\n",
       "    </tr>\n",
       "  </tbody>\n",
       "</table>\n",
       "</div>"
      ],
      "text/plain": [
       "   ReviewID                                             Review\n",
       "0         1                                                  '\n",
       "1         2                                                ' (\n",
       "2         3                                  ' ( the cockettes\n",
       "3         4                                ' ( the cockettes )\n",
       "4         5  ' ( the cockettes ) provides a window into a s..."
      ]
     },
     "execution_count": 2,
     "metadata": {},
     "output_type": "execute_result"
    }
   ],
   "source": [
    "# Load the dataset\n",
    "df = pd.read_csv('sentlex_exp12.txt',skiprows=1, names=['ReviewID', 'Review'])\n",
    "df.head()"
   ]
  },
  {
   "cell_type": "code",
   "execution_count": 3,
   "id": "e714cfe8",
   "metadata": {},
   "outputs": [],
   "source": [
    "# Preprocess the data\n",
    "# Remove punctuation\n",
    "df['Review'] = df['Review'].str.replace('[^\\w\\s]','')"
   ]
  },
  {
   "cell_type": "code",
   "execution_count": 4,
   "id": "db457b74",
   "metadata": {},
   "outputs": [],
   "source": [
    "# Convert to lowercase\n",
    "df['Review'] = df['Review'].str.lower()"
   ]
  },
  {
   "cell_type": "code",
   "execution_count": 5,
   "id": "6bddacb0",
   "metadata": {},
   "outputs": [],
   "source": [
    "#Lemmmatize all the words to base form.\n",
    "wnl = WordNetLemmatizer()\n",
    "\n",
    "def lemmatize_words(text):\n",
    "    words = text.split()\n",
    "    words = [wnl.lemmatize(word,pos='v') for word in words]\n",
    "    return ' '.join(words)\n",
    "\n",
    "df['Review'] = df['Review'].apply(lemmatize_words)"
   ]
  },
  {
   "cell_type": "code",
   "execution_count": 6,
   "id": "705c4e44",
   "metadata": {},
   "outputs": [],
   "source": [
    "# Tokenize the reviews\n",
    "df['Review'] = df['Review'].apply(word_tokenize)"
   ]
  },
  {
   "cell_type": "code",
   "execution_count": 7,
   "id": "fbf3677d",
   "metadata": {},
   "outputs": [],
   "source": [
    "# Remove stopwords\n",
    "stop_words = set(stopwords.words('english'))\n",
    "punctuation=set(['movie','film'])\n",
    "unnecessary = stop_words.union(punctuation)\n",
    "df['Review'] = df['Review'].apply(lambda x: [word for word in x if word not in unnecessary])"
   ]
  },
  {
   "cell_type": "code",
   "execution_count": 8,
   "id": "22ee0ae5",
   "metadata": {},
   "outputs": [],
   "source": [
    "# Utilize clustering techniques\n",
    "# Vectorize the reviews\n",
    "vectorizer = TfidfVectorizer()\n",
    "X = vectorizer.fit_transform(df['Review'].apply(lambda x: ' '.join(x)))"
   ]
  },
  {
   "cell_type": "markdown",
   "id": "14c6ff00",
   "metadata": {},
   "source": [
    "Look for correct cluster count using silhouette score and TSNE"
   ]
  },
  {
   "cell_type": "code",
   "execution_count": null,
   "id": "a012d513",
   "metadata": {},
   "outputs": [],
   "source": [
    "# Utilize clustering techniques\n",
    "# Vectorize the reviews\n",
    "c_vectorizer = CountVectorizer()\n",
    "X1 = c_vectorizer.fit_transform(df['Review'].apply(lambda x: ' '.join(x)))"
   ]
  },
  {
   "cell_type": "code",
   "execution_count": null,
   "id": "f8584815",
   "metadata": {},
   "outputs": [],
   "source": [
    "# initialized reducers with dimensions\n",
    "n_comp = 5\n",
    "lsa_tfidf = TruncatedSVD(n_components=n_comp)\n",
    "lsa_cv = TruncatedSVD(n_components=n_comp)\n",
    "nmf_tfidf = NMF(n_components=n_comp)\n",
    "nmf_cv = NMF(n_components=n_comp)\n",
    "\n",
    "# transformed my vectorizers data using reducers\n",
    "lsa_tfidf_data = lsa_tfidf.fit_transform(X)\n",
    "lsa_cv_data = lsa_cv.fit_transform(X1)\n",
    "nmf_tfidf_data = nmf_tfidf.fit_transform(X)\n",
    "nmf_cv_data = nmf_cv.fit_transform(X1)"
   ]
  },
  {
   "cell_type": "code",
   "execution_count": null,
   "id": "0ca8b711",
   "metadata": {},
   "outputs": [],
   "source": [
    "# initialize standardscaler\n",
    "SS = StandardScaler()\n",
    "\n",
    "# transform my reducer data using standardscaler\n",
    "lsa_tfidf_data_scaled = SS.fit_transform(lsa_tfidf_data)\n",
    "lsa_cv_data_scaled = SS.fit_transform(lsa_cv_data)\n",
    "nmf_tfidf_data_scaled = SS.fit_transform(nmf_tfidf_data)\n",
    "nmf_cv_data_scaled = SS.fit_transform(nmf_cv_data)"
   ]
  },
  {
   "cell_type": "code",
   "execution_count": null,
   "id": "4f4f3f41",
   "metadata": {},
   "outputs": [],
   "source": [
    "#Find cluster count with best Silhouette score\n",
    "SSEs = []\n",
    "Sil_coefs = []\n",
    "for k in range(3,8):\n",
    "    print(k, datetime.now().strftime(\"%H:%M:%S\"))\n",
    "    km = KMeans(n_clusters=k, random_state=42)\n",
    "    km.fit(lsa_tfidf_data_scaled)\n",
    "    labels = km.labels_\n",
    "    Sil_coefs.append(silhouette_score(lsa_tfidf_data_scaled, labels, metric='euclidean'))\n",
    "    SSEs.append(km.inertia_) "
   ]
  },
  {
   "cell_type": "code",
   "execution_count": null,
   "id": "a9d1d1f1",
   "metadata": {},
   "outputs": [],
   "source": [
    "#Plot the Silhouette score\n",
    "fig, (ax1, ax2) = plt.subplots(1,2, figsize=(15,5), sharex=True, dpi=200)\n",
    "k_clusters = range(3,8)\n",
    "ax1.plot(k_clusters, Sil_coefs)\n",
    "ax1.set_xlabel('# clusters')\n",
    "ax1.set_ylabel('silhouette coefficient')\n",
    "\n",
    "# plot here on ax2\n",
    "ax2.plot(k_clusters, SSEs)\n",
    "ax2.set_xlabel('number of clusters')\n",
    "ax2.set_ylabel('SSE');"
   ]
  },
  {
   "cell_type": "code",
   "execution_count": null,
   "id": "dcda5eb6",
   "metadata": {},
   "outputs": [],
   "source": [
    "# Clustering using the optimal cluster count\n",
    "k = 6\n",
    "kmeans = KMeans(n_clusters=k, random_state=1)\n",
    "kmeans.fit(lsa_tfidf_data_scaled)\n",
    "centers = kmeans.cluster_centers_.argsort()[:,::-1]\n",
    "terms = vectorizer.get_feature_names()\n",
    "\n",
    "for i in range(0,k):\n",
    "    word_list=[]\n",
    "    print(\"cluster%d:\"% i)\n",
    "    for j in centers[i,:15]:\n",
    "        word_list.append(terms[j])\n",
    "    print(word_list) "
   ]
  },
  {
   "cell_type": "code",
   "execution_count": null,
   "id": "455fa497",
   "metadata": {
    "scrolled": false
   },
   "outputs": [],
   "source": [
    "#plot TSNE graph\n",
    "tsne = TSNE(n_components=2, verbose=1, perplexity=30, n_iter=500)\n",
    "X_ne = tsne.fit_transform(lsa_tfidf_data_scaled[3000:])\n",
    "\n",
    "figsize=(20,15)\n",
    "plt.figure(dpi=300)\n",
    "sns.scatterplot(data=X_ne, x=X_ne[:, 0], y=X_ne[:, 1], \n",
    "                hue=kmeans.labels_[3000:], alpha=0.5, size = 0.2, \n",
    "                palette='rainbow', legend='full');"
   ]
  },
  {
   "cell_type": "markdown",
   "id": "9d6d4b26",
   "metadata": {},
   "source": [
    "Apply KMeans clustering and analyze results"
   ]
  },
  {
   "cell_type": "code",
   "execution_count": 9,
   "id": "58ec5067",
   "metadata": {},
   "outputs": [],
   "source": [
    "# Apply K-Means clustering\n",
    "clusters = 6\n",
    "kmeans = KMeans(n_clusters=clusters, random_state=0).fit(X)"
   ]
  },
  {
   "cell_type": "code",
   "execution_count": 10,
   "id": "1839247e",
   "metadata": {},
   "outputs": [],
   "source": [
    "# Extract meaningful insights\n",
    "# Get the top words for each cluster\n",
    "cluster_words=[]\n",
    "for i in range(clusters):\n",
    "    words=[vectorizer.get_feature_names()[ind] for ind in kmeans.cluster_centers_[i].argsort()[-12:]]\n",
    "    cluster_words.append(words)"
   ]
  },
  {
   "cell_type": "code",
   "execution_count": 11,
   "id": "9b213833",
   "metadata": {},
   "outputs": [
    {
     "data": {
      "text/plain": [
       "(array([0, 1, 2, 3, 4, 5]),\n",
       " array([ 11722, 176709,  38230,   5871,   4490,   2209], dtype=int64))"
      ]
     },
     "execution_count": 11,
     "metadata": {},
     "output_type": "execute_result"
    }
   ],
   "source": [
    "np.unique(kmeans.labels_,return_counts=True)"
   ]
  },
  {
   "cell_type": "code",
   "execution_count": 12,
   "id": "5c13c216",
   "metadata": {},
   "outputs": [],
   "source": [
    "df['Cluster'] = kmeans.labels_"
   ]
  },
  {
   "cell_type": "code",
   "execution_count": 17,
   "id": "722d0a05",
   "metadata": {},
   "outputs": [
    {
     "data": {
      "image/png": "[encoded data removed]",
      "text/plain": [
       "<Figure size 640x480 with 1 Axes>"
      ]
     },
     "metadata": {},
     "output_type": "display_data"
    }
   ],
   "source": [
    "#Check for assigned cluster distribution. \n",
    "plt.title('Cluster Assignment Count')\n",
    "plt.xlabel('Cluster')\n",
    "plt.ylabel('Count')\n",
    "plt.hist(df['Cluster'])\n",
    "plt.show()"
   ]
  },
  {
   "cell_type": "code",
   "execution_count": 14,
   "id": "4966c502",
   "metadata": {},
   "outputs": [],
   "source": [
    "# Create a dataframe to store the results\n",
    "results_df = pd.DataFrame(cluster_words, columns=['word_1', 'word_2', 'word_3', 'word_4', 'word_5', 'word_6', 'word_7', 'word_8', 'word_9', 'word_10', 'word_11', 'word_12'])"
   ]
  },
  {
   "cell_type": "code",
   "execution_count": 15,
   "id": "0e67a436",
   "metadata": {},
   "outputs": [
    {
     "data": {
      "text/html": [
       "<div>\n",
       "<style scoped>\n",
       "    .dataframe tbody tr th:only-of-type {\n",
       "        vertical-align: middle;\n",
       "    }\n",
       "\n",
       "    .dataframe tbody tr th {\n",
       "        vertical-align: top;\n",
       "    }\n",
       "\n",
       "    .dataframe thead th {\n",
       "        text-align: right;\n",
       "    }\n",
       "</style>\n",
       "<table border=\"1\" class=\"dataframe\">\n",
       "  <thead>\n",
       "    <tr style=\"text-align: right;\">\n",
       "      <th></th>\n",
       "      <th>word_1</th>\n",
       "      <th>word_2</th>\n",
       "      <th>word_3</th>\n",
       "      <th>word_4</th>\n",
       "      <th>word_5</th>\n",
       "      <th>word_6</th>\n",
       "      <th>word_7</th>\n",
       "      <th>word_8</th>\n",
       "      <th>word_9</th>\n",
       "      <th>word_10</th>\n",
       "      <th>word_11</th>\n",
       "      <th>word_12</th>\n",
       "    </tr>\n",
       "  </thead>\n",
       "  <tbody>\n",
       "    <tr>\n",
       "      <th>0</th>\n",
       "      <td>enough</td>\n",
       "      <td>feel</td>\n",
       "      <td>look</td>\n",
       "      <td>us</td>\n",
       "      <td>love</td>\n",
       "      <td>interest</td>\n",
       "      <td>44</td>\n",
       "      <td>good</td>\n",
       "      <td>story</td>\n",
       "      <td>character</td>\n",
       "      <td>time</td>\n",
       "      <td>make</td>\n",
       "    </tr>\n",
       "    <tr>\n",
       "      <th>1</th>\n",
       "      <td>way</td>\n",
       "      <td>9696</td>\n",
       "      <td>go</td>\n",
       "      <td>life</td>\n",
       "      <td>44</td>\n",
       "      <td>96</td>\n",
       "      <td>much</td>\n",
       "      <td>get</td>\n",
       "      <td>comedy</td>\n",
       "      <td>work</td>\n",
       "      <td>see</td>\n",
       "      <td>like</td>\n",
       "    </tr>\n",
       "    <tr>\n",
       "      <th>2</th>\n",
       "      <td>work</td>\n",
       "      <td>see</td>\n",
       "      <td>comedy</td>\n",
       "      <td>love</td>\n",
       "      <td>even</td>\n",
       "      <td>story</td>\n",
       "      <td>time</td>\n",
       "      <td>good</td>\n",
       "      <td>funny</td>\n",
       "      <td>like</td>\n",
       "      <td>character</td>\n",
       "      <td>44</td>\n",
       "    </tr>\n",
       "    <tr>\n",
       "      <th>3</th>\n",
       "      <td>go</td>\n",
       "      <td>really</td>\n",
       "      <td>like</td>\n",
       "      <td>care</td>\n",
       "      <td>make</td>\n",
       "      <td>know</td>\n",
       "      <td>see</td>\n",
       "      <td>much</td>\n",
       "      <td>wo</td>\n",
       "      <td>44</td>\n",
       "      <td>ca</td>\n",
       "      <td>nt</td>\n",
       "    </tr>\n",
       "    <tr>\n",
       "      <th>4</th>\n",
       "      <td>time</td>\n",
       "      <td>man</td>\n",
       "      <td>good</td>\n",
       "      <td>thing</td>\n",
       "      <td>like</td>\n",
       "      <td>make</td>\n",
       "      <td>best</td>\n",
       "      <td>movies</td>\n",
       "      <td>year</td>\n",
       "      <td>another</td>\n",
       "      <td>44</td>\n",
       "      <td>one</td>\n",
       "    </tr>\n",
       "    <tr>\n",
       "      <th>5</th>\n",
       "      <td>love</td>\n",
       "      <td>wit</td>\n",
       "      <td>time</td>\n",
       "      <td>bite</td>\n",
       "      <td>precious</td>\n",
       "      <td>offer</td>\n",
       "      <td>else</td>\n",
       "      <td>much</td>\n",
       "      <td>story</td>\n",
       "      <td>stuart</td>\n",
       "      <td>44</td>\n",
       "      <td>little</td>\n",
       "    </tr>\n",
       "  </tbody>\n",
       "</table>\n",
       "</div>"
      ],
      "text/plain": [
       "   word_1  word_2  word_3 word_4    word_5    word_6 word_7  word_8  word_9  \\\n",
       "0  enough    feel    look     us      love  interest     44    good   story   \n",
       "1     way    9696      go   life        44        96   much     get  comedy   \n",
       "2    work     see  comedy   love      even     story   time    good   funny   \n",
       "3      go  really    like   care      make      know    see    much      wo   \n",
       "4    time     man    good  thing      like      make   best  movies    year   \n",
       "5    love     wit    time   bite  precious     offer   else    much   story   \n",
       "\n",
       "     word_10    word_11 word_12  \n",
       "0  character       time    make  \n",
       "1       work        see    like  \n",
       "2       like  character      44  \n",
       "3         44         ca      nt  \n",
       "4    another         44     one  \n",
       "5     stuart         44  little  "
      ]
     },
     "execution_count": 15,
     "metadata": {},
     "output_type": "execute_result"
    }
   ],
   "source": [
    "results_df.head(6)"
   ]
  },
  {
   "cell_type": "code",
   "execution_count": 16,
   "id": "c5cf273e",
   "metadata": {},
   "outputs": [
    {
     "data": {
      "image/png": "[encoded data removed]",
      "text/plain": [
       "<Figure size 1400x600 with 1 Axes>"
      ]
     },
     "metadata": {},
     "output_type": "display_data"
    }
   ],
   "source": [
    "# Visualize the results. It seem many same words are found in multiple clusters. \n",
    "# Need to work on stop words and tune clustering algorithm parameters\n",
    "plt.figure(figsize=(14,6))\n",
    "for i in range(clusters):\n",
    "    plt.scatter(results_df.iloc[i,:], range(12))\n",
    "plt.title('Top Words for Each Cluster')\n",
    "plt.xlabel('Words')\n",
    "plt.ylabel('Cluster')\n",
    "plt.xticks(rotation = 45)\n",
    "plt.show()"
   ]
  }
 ],
 "metadata": {
  "kernelspec": {
   "display_name": "Python 3 (ipykernel)",
   "language": "python",
   "name": "python3"
  },
  "language_info": {
   "codemirror_mode": {
    "name": "ipython",
    "version": 3
   },
   "file_extension": ".py",
   "mimetype": "text/x-python",
   "name": "python",
   "nbconvert_exporter": "python",
   "pygments_lexer": "ipython3",
   "version": "3.9.7"
  }
 },
 "nbformat": 4,
 "nbformat_minor": 5
}
