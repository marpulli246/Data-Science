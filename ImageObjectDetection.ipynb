{
 "cells": [
  {
   "cell_type": "code",
   "execution_count": 3,
   "metadata": {
    "_cell_guid": "b1076dfc-b9ad-4769-8c92-a6c4dae69d19",
    "_uuid": "8f2839f25d086af736a60e9eeb907d3b93b6e0e5",
    "execution": {
     "iopub.execute_input": "2022-02-01T17:41:35.714609Z",
     "iopub.status.busy": "2022-02-01T17:41:35.714303Z",
     "iopub.status.idle": "2022-02-01T17:41:35.719607Z",
     "shell.execute_reply": "2022-02-01T17:41:35.718970Z",
     "shell.execute_reply.started": "2022-02-01T17:41:35.714575Z"
    }
   },
   "outputs": [],
   "source": [
    "# This Python 3 environment comes with many helpful analytics libraries installed\n",
    "# It is defined by the kaggle/python Docker image: https://github.com/kaggle/docker-python\n",
    "# For example, here's several helpful packages to load\n",
    "\n",
    "#import numpy as np # linear algebra\n",
    "#import pandas as pd # data processing, CSV file I/O (e.g. pd.read_csv)\n",
    "\n",
    "# Input data files are available in the read-only \"../input/\" directory\n",
    "# For example, running this (by clicking run or pressing Shift+Enter) will list all files under the input directory\n",
    "\n",
    "#import os\n",
    "#for dirname, _, filenames in os.walk('/kaggle/input'):\n",
    "#    for filename in filenames:\n",
    "#        print(os.path.join(dirname, filename))\n",
    "\n",
    "# You can write up to 20GB to the current directory (/kaggle/working/) that gets preserved as output when you create a version using \"Save & Run All\" \n",
    "# You can also write temporary files to /kaggle/temp/, but they won't be saved outside of the current session"
   ]
  },
  {
   "cell_type": "code",
   "execution_count": 4,
   "metadata": {
    "execution": {
     "iopub.execute_input": "2022-02-01T17:41:35.722606Z",
     "iopub.status.busy": "2022-02-01T17:41:35.722040Z",
     "iopub.status.idle": "2022-02-01T17:41:38.547613Z",
     "shell.execute_reply": "2022-02-01T17:41:38.546842Z",
     "shell.execute_reply.started": "2022-02-01T17:41:35.722496Z"
    }
   },
   "outputs": [],
   "source": [
    "!git clone https://github.com/fizyr/keras-retinanet.git"
   ]
  },
  {
   "cell_type": "code",
   "execution_count": 5,
   "metadata": {
    "execution": {
     "iopub.execute_input": "2022-02-01T17:41:38.549727Z",
     "iopub.status.busy": "2022-02-01T17:41:38.549444Z",
     "iopub.status.idle": "2022-02-01T17:41:50.045880Z",
     "shell.execute_reply": "2022-02-01T17:41:50.044857Z",
     "shell.execute_reply.started": "2022-02-01T17:41:38.549689Z"
    }
   },
   "outputs": [],
   "source": [
    "!pip install --upgrade keras"
   ]
  },
  {
   "cell_type": "code",
   "execution_count": 6,
   "metadata": {
    "execution": {
     "iopub.execute_input": "2022-02-01T17:41:50.047753Z",
     "iopub.status.busy": "2022-02-01T17:41:50.047497Z",
     "iopub.status.idle": "2022-02-01T17:42:03.914976Z",
     "shell.execute_reply": "2022-02-01T17:42:03.913953Z",
     "shell.execute_reply.started": "2022-02-01T17:41:50.047715Z"
    }
   },
   "outputs": [],
   "source": [
    "%cd ./keras-retinanet/\n",
    "\n",
    "!pip install ."
   ]
  },
  {
   "cell_type": "code",
   "execution_count": 7,
   "metadata": {
    "execution": {
     "iopub.execute_input": "2022-02-01T17:42:03.918181Z",
     "iopub.status.busy": "2022-02-01T17:42:03.917870Z",
     "iopub.status.idle": "2022-02-01T17:42:05.424137Z",
     "shell.execute_reply": "2022-02-01T17:42:05.423193Z",
     "shell.execute_reply.started": "2022-02-01T17:42:03.918140Z"
    }
   },
   "outputs": [],
   "source": [
    "!python setup.py build_ext --inplace"
   ]
  },
  {
   "cell_type": "code",
   "execution_count": 8,
   "metadata": {
    "execution": {
     "iopub.execute_input": "2022-02-01T17:42:05.426456Z",
     "iopub.status.busy": "2022-02-01T17:42:05.426186Z",
     "iopub.status.idle": "2022-02-01T17:43:22.255090Z",
     "shell.execute_reply": "2022-02-01T17:43:22.254238Z",
     "shell.execute_reply.started": "2022-02-01T17:42:05.426419Z"
    }
   },
   "outputs": [],
   "source": [
    "!pip install gdown\n",
    "!pip install tensorflow-gpu"
   ]
  },
  {
   "cell_type": "code",
   "execution_count": 9,
   "metadata": {
    "execution": {
     "iopub.execute_input": "2022-02-01T17:43:22.257766Z",
     "iopub.status.busy": "2022-02-01T17:43:22.257223Z",
     "iopub.status.idle": "2022-02-01T17:43:27.050350Z",
     "shell.execute_reply": "2022-02-01T17:43:27.049586Z",
     "shell.execute_reply.started": "2022-02-01T17:43:22.257723Z"
    }
   },
   "outputs": [],
   "source": [
    "import tensorflow as tf\n",
    "import matplotlib.pyplot as plt\n",
    "import tempfile\n",
    "\n",
    "import numpy as np\n",
    "import pandas as pd\n",
    "from PIL import Image\n",
    "from PIL import ImageColor\n",
    "from PIL import ImageDraw\n",
    "from PIL import ImageFont\n",
    "from PIL import ImageOps\n",
    "\n",
    "import time\n",
    "import ast\n",
    "import cv2\n",
    "\n",
    "from tensorflow import keras\n",
    "import seaborn as sns\n",
    "from pylab import rcParams\n",
    "from matplotlib import rc\n",
    "from pandas.plotting import register_matplotlib_converters\n",
    "from sklearn.model_selection import train_test_split\n",
    "import urllib\n",
    "import os\n",
    "import csv\n",
    "\n",
    "from keras_retinanet import models\n",
    "from keras_retinanet.utils.image import read_image_bgr, preprocess_image, resize_image\n",
    "from keras_retinanet.utils.visualization import draw_box, draw_caption\n",
    "from keras_retinanet.utils.colors import label_color\n",
    "\n",
    "%matplotlib inline\n",
    "%config InlineBackend.figure_format='retina'\n",
    "\n",
    "register_matplotlib_converters()\n",
    "sns.set(style='whitegrid', palette='muted', font_scale=1.5)\n",
    "\n",
    "rcParams['figure.figsize'] = 22, 10\n",
    "\n",
    "RANDOM_SEED = 42\n",
    "\n",
    "np.random.seed(RANDOM_SEED)\n",
    "tf.random.set_seed(RANDOM_SEED)\n",
    "\n",
    "# Print Tensorflow version\n",
    "print(tf.__version__)\n",
    "\n",
    "# Check available GPU devices.\n",
    "print(\"GPU info: %s\" % tf.test.gpu_device_name())"
   ]
  },
  {
   "cell_type": "code",
   "execution_count": 10,
   "metadata": {
    "execution": {
     "iopub.execute_input": "2022-02-01T17:43:27.052266Z",
     "iopub.status.busy": "2022-02-01T17:43:27.051789Z",
     "iopub.status.idle": "2022-02-01T17:43:27.057113Z",
     "shell.execute_reply": "2022-02-01T17:43:27.056400Z",
     "shell.execute_reply.started": "2022-02-01T17:43:27.052223Z"
    }
   },
   "outputs": [],
   "source": [
    "os.makedirs(\"./snapshots\", exist_ok=True)"
   ]
  },
  {
   "cell_type": "code",
   "execution_count": 11,
   "metadata": {
    "execution": {
     "iopub.execute_input": "2022-02-01T17:43:27.061226Z",
     "iopub.status.busy": "2022-02-01T17:43:27.061038Z",
     "iopub.status.idle": "2022-02-01T17:43:31.198566Z",
     "shell.execute_reply": "2022-02-01T17:43:31.197746Z",
     "shell.execute_reply.started": "2022-02-01T17:43:27.061203Z"
    }
   },
   "outputs": [],
   "source": [
    "!gdown --id 1wPgOBoSks6bTIs9RzNvZf6HWROkciS8R --output ./snapshots/resnet50_csv_10.h5"
   ]
  },
  {
   "cell_type": "code",
   "execution_count": 12,
   "metadata": {
    "execution": {
     "iopub.execute_input": "2022-02-01T17:43:31.200219Z",
     "iopub.status.busy": "2022-02-01T17:43:31.200000Z",
     "iopub.status.idle": "2022-02-01T17:43:31.205242Z",
     "shell.execute_reply": "2022-02-01T17:43:31.204552Z",
     "shell.execute_reply.started": "2022-02-01T17:43:31.200191Z"
    }
   },
   "outputs": [],
   "source": [
    "os.makedirs(\"./CSOT\", exist_ok=True)"
   ]
  },
  {
   "cell_type": "code",
   "execution_count": 13,
   "metadata": {
    "execution": {
     "iopub.execute_input": "2022-02-01T17:43:31.207227Z",
     "iopub.status.busy": "2022-02-01T17:43:31.206663Z",
     "iopub.status.idle": "2022-02-01T17:43:31.275416Z",
     "shell.execute_reply": "2022-02-01T17:43:31.274734Z",
     "shell.execute_reply.started": "2022-02-01T17:43:31.207190Z"
    }
   },
   "outputs": [],
   "source": [
    "df = pd.read_csv('/kaggle/input/tensorflow-great-barrier-reef/train.csv')\n",
    "df.head()"
   ]
  },
  {
   "cell_type": "code",
   "execution_count": 14,
   "metadata": {
    "execution": {
     "iopub.execute_input": "2022-02-01T17:43:31.276785Z",
     "iopub.status.busy": "2022-02-01T17:43:31.276546Z",
     "iopub.status.idle": "2022-02-01T17:43:31.317428Z",
     "shell.execute_reply": "2022-02-01T17:43:31.316805Z",
     "shell.execute_reply.started": "2022-02-01T17:43:31.276750Z"
    }
   },
   "outputs": [],
   "source": [
    "df['imageName']=df['video_frame'].astype(str)+'.jpg'\n",
    "dfFiltered = df[['imageName', 'video_id', 'video_frame', 'annotations']]\n",
    "#dfFiltered.head()"
   ]
  },
  {
   "cell_type": "code",
   "execution_count": 15,
   "metadata": {
    "execution": {
     "iopub.execute_input": "2022-02-01T17:43:31.318802Z",
     "iopub.status.busy": "2022-02-01T17:43:31.318439Z",
     "iopub.status.idle": "2022-02-01T17:43:31.340717Z",
     "shell.execute_reply": "2022-02-01T17:43:31.340127Z",
     "shell.execute_reply.started": "2022-02-01T17:43:31.318765Z"
    }
   },
   "outputs": [],
   "source": [
    "train_v0=dfFiltered[(dfFiltered['video_id']==0) & (dfFiltered['annotations']!='[]')].reset_index()\n",
    "train_v1=dfFiltered[(dfFiltered['video_id']==1) & (dfFiltered['annotations']!='[]')].reset_index()\n",
    "train_v2=dfFiltered[(dfFiltered['video_id']==2) & (dfFiltered['annotations']!='[]')].reset_index()"
   ]
  },
  {
   "cell_type": "code",
   "execution_count": 16,
   "metadata": {
    "execution": {
     "iopub.execute_input": "2022-02-01T17:43:31.344257Z",
     "iopub.status.busy": "2022-02-01T17:43:31.344076Z",
     "iopub.status.idle": "2022-02-01T17:43:31.352428Z",
     "shell.execute_reply": "2022-02-01T17:43:31.351592Z",
     "shell.execute_reply.started": "2022-02-01T17:43:31.344233Z"
    }
   },
   "outputs": [],
   "source": [
    "train_v0.loc[5,'annotations'].count('{')"
   ]
  },
  {
   "cell_type": "code",
   "execution_count": 17,
   "metadata": {
    "execution": {
     "iopub.execute_input": "2022-02-01T17:43:31.353893Z",
     "iopub.status.busy": "2022-02-01T17:43:31.353519Z",
     "iopub.status.idle": "2022-02-01T17:43:31.363172Z",
     "shell.execute_reply": "2022-02-01T17:43:31.362380Z",
     "shell.execute_reply.started": "2022-02-01T17:43:31.353858Z"
    }
   },
   "outputs": [],
   "source": [
    "#Annotation creation\n",
    "def create_csv(vfold,vname,ifo):\n",
    "    annots =[]\n",
    "    #column_names = ['filename','width','height','class','xmin','ymin','xmax','ymax']\n",
    "    column_names = ['image_name','x_min','y_min','x_max','y_max','class_name']\n",
    "    TFR = pd.DataFrame(columns=column_names)\n",
    "    raw_annots = vfold['annotations'].apply(lambda annots : eval(annots)).values\n",
    "    annots = [annot for sublist in raw_annots for annot in sublist]\n",
    "    annots = [list(annot.values()) for annot in annots]\n",
    "    annots = np.array(annots)\n",
    "    j=0\n",
    "    for i in range(len(vfold)):\n",
    "      imageN = vfold.loc[i,'imageName']\n",
    "      nboxs=vfold.loc[i,'annotations'].count('{')\n",
    "      for ii in range(0,nboxs):\n",
    "        #new_row = ['../input/tensorflow-great-barrier-reef/train_images/'+ifo+imageN,1280,720,'class',annots[j+ii,0],annots[j+ii,1],annots[j+ii,2]+annots[j+ii,0],annots[j+ii,3]+annots[j+ii,1]]\n",
    "        new_row = ['/kaggle/input/tensorflow-great-barrier-reef/train_images/'+ifo+imageN,annots[j+ii,0],annots[j+ii,1],annots[j+ii,2]+annots[j+ii,0],annots[j+ii,3]+annots[j+ii,1],'CSOT']\n",
    "        TFR.loc[(j+ii)] = new_row\n",
    "      j+=ii+1 \n",
    "    TFR.to_csv('./'+vname+'_TFRecord.csv',index=False)\n",
    "    TFR.head()"
   ]
  },
  {
   "cell_type": "markdown",
   "metadata": {},
   "source": []
  },
  {
   "cell_type": "code",
   "execution_count": 18,
   "metadata": {
    "execution": {
     "iopub.execute_input": "2022-02-01T17:43:31.365099Z",
     "iopub.status.busy": "2022-02-01T17:43:31.364402Z",
     "iopub.status.idle": "2022-02-01T17:44:06.852593Z",
     "shell.execute_reply": "2022-02-01T17:44:06.851833Z",
     "shell.execute_reply.started": "2022-02-01T17:43:31.365065Z"
    }
   },
   "outputs": [],
   "source": [
    "#Create annotation csv files\n",
    "vfold=['train_v0','train_v1','train_v2']\n",
    "for folders in range(len(vfold)):\n",
    "    if folders==0: \n",
    "        df=train_v0\n",
    "        vf='video_0/'\n",
    "    if folders==1: \n",
    "        df=train_v1 \n",
    "        vf='video_1/'\n",
    "    if folders==2: \n",
    "        df=train_v2\n",
    "        vf='video_2/'\n",
    "    df.name=vfold[folders] \n",
    "    create_csv(df,df.name,vf)"
   ]
  },
  {
   "cell_type": "code",
   "execution_count": 19,
   "metadata": {
    "execution": {
     "iopub.execute_input": "2022-02-01T17:44:06.854435Z",
     "iopub.status.busy": "2022-02-01T17:44:06.854159Z",
     "iopub.status.idle": "2022-02-01T17:44:06.862261Z",
     "shell.execute_reply": "2022-02-01T17:44:06.860349Z",
     "shell.execute_reply.started": "2022-02-01T17:44:06.854398Z"
    }
   },
   "outputs": [],
   "source": [
    "def show_image_objects(image_row):\n",
    "  \n",
    "  img_path = image_row.image_name\n",
    "  box = [\n",
    "    image_row.x_min, image_row.y_min, image_row.x_max, image_row.y_max\n",
    "  ]\n",
    "\n",
    "  image = read_image_bgr(img_path)\n",
    "\n",
    "  draw = image.copy()\n",
    "  draw = cv2.cvtColor(draw, cv2.COLOR_BGR2RGB)\n",
    "\n",
    "  draw_box(draw, box, color=(255, 255, 0))\n",
    "\n",
    "  plt.axis('off')\n",
    "  plt.imshow(draw)\n",
    "  plt.show()"
   ]
  },
  {
   "cell_type": "code",
   "execution_count": 20,
   "metadata": {
    "execution": {
     "iopub.execute_input": "2022-02-01T17:44:06.864118Z",
     "iopub.status.busy": "2022-02-01T17:44:06.863567Z",
     "iopub.status.idle": "2022-02-01T17:44:06.883539Z",
     "shell.execute_reply": "2022-02-01T17:44:06.882905Z",
     "shell.execute_reply.started": "2022-02-01T17:44:06.864078Z"
    }
   },
   "outputs": [],
   "source": [
    "train_0 = pd.read_csv('./train_v0_TFRecord.csv')\n",
    "test_0 = pd.read_csv('./train_v2_TFRecord.csv')"
   ]
  },
  {
   "cell_type": "code",
   "execution_count": 21,
   "metadata": {
    "execution": {
     "iopub.execute_input": "2022-02-01T17:44:06.885391Z",
     "iopub.status.busy": "2022-02-01T17:44:06.884676Z",
     "iopub.status.idle": "2022-02-01T17:44:08.905746Z",
     "shell.execute_reply": "2022-02-01T17:44:08.904701Z",
     "shell.execute_reply.started": "2022-02-01T17:44:06.885351Z"
    }
   },
   "outputs": [],
   "source": [
    "show_image_objects(train_0.iloc[0])"
   ]
  },
  {
   "cell_type": "code",
   "execution_count": 22,
   "metadata": {
    "execution": {
     "iopub.execute_input": "2022-02-01T17:44:08.907153Z",
     "iopub.status.busy": "2022-02-01T17:44:08.906864Z",
     "iopub.status.idle": "2022-02-01T17:44:08.911797Z",
     "shell.execute_reply": "2022-02-01T17:44:08.911086Z",
     "shell.execute_reply.started": "2022-02-01T17:44:08.907118Z"
    }
   },
   "outputs": [],
   "source": [
    "ANNOTATIONS_FILE = './annotations.csv'\n",
    "CLASSES_FILE = './classes.csv'"
   ]
  },
  {
   "cell_type": "code",
   "execution_count": 23,
   "metadata": {
    "execution": {
     "iopub.execute_input": "2022-02-01T17:44:08.913558Z",
     "iopub.status.busy": "2022-02-01T17:44:08.913161Z",
     "iopub.status.idle": "2022-02-01T17:44:08.942044Z",
     "shell.execute_reply": "2022-02-01T17:44:08.941294Z",
     "shell.execute_reply.started": "2022-02-01T17:44:08.913526Z"
    }
   },
   "outputs": [],
   "source": [
    "train_0.to_csv(ANNOTATIONS_FILE, index=False, header=None)"
   ]
  },
  {
   "cell_type": "code",
   "execution_count": 24,
   "metadata": {
    "execution": {
     "iopub.execute_input": "2022-02-01T17:44:08.943867Z",
     "iopub.status.busy": "2022-02-01T17:44:08.943452Z",
     "iopub.status.idle": "2022-02-01T17:44:08.948695Z",
     "shell.execute_reply": "2022-02-01T17:44:08.948074Z",
     "shell.execute_reply.started": "2022-02-01T17:44:08.943834Z"
    }
   },
   "outputs": [],
   "source": [
    "classes = set(['CSOT'])\n",
    "\n",
    "with open(CLASSES_FILE, 'w') as f:\n",
    "  for i, line in enumerate(sorted(classes)):\n",
    "    f.write('{},{}\\n'.format(line,i))"
   ]
  },
  {
   "cell_type": "code",
   "execution_count": 25,
   "metadata": {
    "execution": {
     "iopub.execute_input": "2022-02-01T17:44:08.950790Z",
     "iopub.status.busy": "2022-02-01T17:44:08.950210Z",
     "iopub.status.idle": "2022-02-01T17:44:09.645814Z",
     "shell.execute_reply": "2022-02-01T17:44:09.644975Z",
     "shell.execute_reply.started": "2022-02-01T17:44:08.950755Z"
    }
   },
   "outputs": [],
   "source": [
    "!head classes.csv"
   ]
  },
  {
   "cell_type": "code",
   "execution_count": 26,
   "metadata": {
    "execution": {
     "iopub.execute_input": "2022-02-01T17:44:09.647979Z",
     "iopub.status.busy": "2022-02-01T17:44:09.647581Z",
     "iopub.status.idle": "2022-02-01T17:44:10.334497Z",
     "shell.execute_reply": "2022-02-01T17:44:10.333607Z",
     "shell.execute_reply.started": "2022-02-01T17:44:09.647938Z"
    }
   },
   "outputs": [],
   "source": [
    "!head annotations.csv"
   ]
  },
  {
   "cell_type": "markdown",
   "metadata": {},
   "source": [
    "*Model Training*"
   ]
  },
  {
   "cell_type": "code",
   "execution_count": 27,
   "metadata": {
    "execution": {
     "iopub.execute_input": "2022-02-01T17:44:10.336428Z",
     "iopub.status.busy": "2022-02-01T17:44:10.336144Z",
     "iopub.status.idle": "2022-02-01T17:44:14.611059Z",
     "shell.execute_reply": "2022-02-01T17:44:14.610373Z",
     "shell.execute_reply.started": "2022-02-01T17:44:10.336389Z"
    }
   },
   "outputs": [],
   "source": [
    "PRETRAINED_MODEL = './snapshots/_pretrained_model.h5' \n",
    "\n",
    "URL_MODEL = 'https://github.com/fizyr/keras-retinanet/releases/download/0.5.1/resnet50_coco_best_v2.1.0.h5'\n",
    "urllib.request.urlretrieve(URL_MODEL, PRETRAINED_MODEL)\n",
    "\n",
    "print('Downloaded pretrained model to ' + PRETRAINED_MODEL)"
   ]
  },
  {
   "cell_type": "code",
   "execution_count": 28,
   "metadata": {
    "execution": {
     "iopub.execute_input": "2022-02-01T17:44:14.612952Z",
     "iopub.status.busy": "2022-02-01T17:44:14.612445Z",
     "iopub.status.idle": "2022-02-01T17:48:29.176336Z",
     "shell.execute_reply": "2022-02-01T17:48:29.175511Z",
     "shell.execute_reply.started": "2022-02-01T17:44:14.612912Z"
    }
   },
   "outputs": [],
   "source": [
    "!keras_retinanet/bin/train.py --freeze-backbone --random-transform --weights {PRETRAINED_MODEL} --batch-size 8 --steps 200 --epochs 3 csv ./annotations.csv ./classes.csv"
   ]
  },
  {
   "cell_type": "code",
   "execution_count": null,
   "metadata": {},
   "outputs": [],
   "source": [
    "!ls ./snapshots"
   ]
  },
  {
   "cell_type": "code",
   "execution_count": null,
   "metadata": {},
   "outputs": [],
   "source": [
    "model_path = os.path.join('./snapshots', sorted(os.listdir('./snapshots'), reverse=True)[0])\n",
    "print(model_path)\n",
    "\n",
    "model = models.load_model(model_path, backbone_name='resnet50')\n",
    "model = models.convert_model(model)\n",
    "\n",
    "labels_to_names = pd.read_csv(CLASSES_FILE, header=None).T.loc[0].to_dict()"
   ]
  },
  {
   "cell_type": "code",
   "execution_count": null,
   "metadata": {},
   "outputs": [],
   "source": [
    "def predict(image):\n",
    "  image = preprocess_image(image.copy())\n",
    "  image, scale = resize_image(image)\n",
    "\n",
    "  boxes, scores, labels = model.predict_on_batch(\n",
    "    np.expand_dims(image, axis=0)\n",
    "  )\n",
    "\n",
    "  boxes /= scale\n",
    "\n",
    "  return boxes, scores, labels"
   ]
  },
  {
   "cell_type": "code",
   "execution_count": null,
   "metadata": {},
   "outputs": [],
   "source": [
    "THRES_SCORE = 0.6\n",
    "\n",
    "def draw_detections(image, boxes, scores, labels):\n",
    "  for box, score, label in zip(boxes[0], scores[0], labels[0]):\n",
    "    if score < THRES_SCORE:\n",
    "        break\n",
    "\n",
    "    color = label_color(label)\n",
    "\n",
    "    b = box.astype(int)\n",
    "    draw_box(image, b, color=color)\n",
    "\n",
    "    caption = \"{} {:.3f}\".format(labels_to_names[label], score)\n",
    "    draw_caption(image, b, caption)"
   ]
  },
  {
   "cell_type": "code",
   "execution_count": null,
   "metadata": {},
   "outputs": [],
   "source": [
    "def show_detected_objects(image_row):\n",
    "  img_path = image_row.image_name\n",
    "  \n",
    "  image = read_image_bgr(img_path)\n",
    "\n",
    "  boxes, scores, labels = predict(image)\n",
    "\n",
    "  draw = image.copy()\n",
    "  draw = cv2.cvtColor(draw, cv2.COLOR_BGR2RGB)\n",
    "\n",
    "  true_box = [\n",
    "    image_row.x_min, image_row.y_min, image_row.x_max, image_row.y_max\n",
    "  ]\n",
    "  draw_box(draw, true_box, color=(255, 255, 0))\n",
    "\n",
    "  draw_detections(draw, boxes, scores, labels)\n",
    "\n",
    "  plt.axis('off')\n",
    "  plt.imshow(draw)\n",
    "  plt.show()"
   ]
  },
  {
   "cell_type": "code",
   "execution_count": null,
   "metadata": {},
   "outputs": [],
   "source": [
    "test_0.head(n=10)"
   ]
  },
  {
   "cell_type": "code",
   "execution_count": null,
   "metadata": {},
   "outputs": [],
   "source": [
    "show_detected_objects(test_0.iloc[0])"
   ]
  },
  {
   "cell_type": "code",
   "execution_count": null,
   "metadata": {},
   "outputs": [],
   "source": [
    "import os\n",
    "os.chdir(r'./snapshots')\n",
    "from IPython.display import FileLink\n",
    "FileLink(r'resnet50_csv_01.h5')\n",
    "FileLink(r'resnet50_csv_02.h5')\n",
    "FileLink(r'resnet50_csv_03.h5')"
   ]
  }
 ],
 "metadata": {
  "kernelspec": {
   "display_name": "Python 3",
   "language": "python",
   "name": "python3"
  },
  "language_info": {
   "codemirror_mode": {
    "name": "ipython",
    "version": 3
   },
   "file_extension": ".py",
   "mimetype": "text/x-python",
   "name": "python",
   "nbconvert_exporter": "python",
   "pygments_lexer": "ipython3",
   "version": "3.7.6"
  }
 },
 "nbformat": 4,
 "nbformat_minor": 4
}
