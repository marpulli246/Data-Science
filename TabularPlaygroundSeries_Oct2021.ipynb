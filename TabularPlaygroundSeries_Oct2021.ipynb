{
  "nbformat": 4,
  "nbformat_minor": 0,
  "metadata": {
    "kernelspec": {
      "display_name": "Python 3",
      "language": "python",
      "name": "python3"
    },
    "language_info": {
      "codemirror_mode": {
        "name": "ipython",
        "version": 3
      },
      "file_extension": ".py",
      "mimetype": "text/x-python",
      "name": "python",
      "nbconvert_exporter": "python",
      "pygments_lexer": "ipython3",
      "version": "3.7.6"
    },
    "colab": {
      "name": "TabularPlaygroundSeries_Oct2021.ipynb",
      "provenance": [],
      "include_colab_link": true
    }
  },
  "cells": [
    {
      "cell_type": "markdown",
      "metadata": {
        "id": "view-in-github",
        "colab_type": "text"
      },
      "source": [
        "<a href=\"https://colab.research.google.com/github/marpulli246/Kaggle/blob/main/TabularPlaygroundSeries_Oct2021.ipynb\" target=\"_parent\"><img src=\"https://colab.research.google.com/assets/colab-badge.svg\" alt=\"Open In Colab\"/></a>"
      ]
    },
    {
      "cell_type": "code",
      "metadata": {
        "id": "7tjmI9_zjtbf"
      },
      "source": [
        "import numpy as np\n",
        "import pandas as pd\n",
        "import seaborn as sns\n",
        "import matplotlib.pyplot as plt\n",
        "from sklearn.decomposition import PCA\n",
        "from sklearn.manifold import TSNE\n",
        "from sklearn.discriminant_analysis import LinearDiscriminantAnalysis as LDA\n",
        "#from zipfile import ZipFile\n",
        "import os\n",
        "\n",
        "from sklearn.neural_network import MLPClassifier\n",
        "from sklearn.datasets import make_classification\n",
        "from sklearn import datasets, metrics, model_selection, svm"
      ],
      "execution_count": 1,
      "outputs": []
    },
    {
      "cell_type": "code",
      "metadata": {
        "colab": {
          "base_uri": "https://localhost:8080/"
        },
        "id": "VwpTWsCrKPyx",
        "outputId": "9ddeba95-57bb-44a7-eec6-9123eb837304"
      },
      "source": [
        "from google.colab import drive\n",
        "drive.mount('/content/drive')"
      ],
      "execution_count": 2,
      "outputs": [
        {
          "output_type": "stream",
          "name": "stdout",
          "text": [
            "Drive already mounted at /content/drive; to attempt to forcibly remount, call drive.mount(\"/content/drive\", force_remount=True).\n"
          ]
        }
      ]
    },
    {
      "cell_type": "code",
      "metadata": {
        "id": "X43HZQ1bjtbs",
        "colab": {
          "base_uri": "https://localhost:8080/"
        },
        "outputId": "50f22ffa-2304-494b-eb02-113b8f63ec76"
      },
      "source": [
        "#df = pd.read_csv('/content/drive/MyDrive/train.csv.gz')\n",
        "df = pd.read_csv('/content/drive/MyDrive/DF_opt.csv.gz')\n",
        "df.info(memory_usage='deep')"
      ],
      "execution_count": 3,
      "outputs": [
        {
          "output_type": "stream",
          "name": "stdout",
          "text": [
            "<class 'pandas.core.frame.DataFrame'>\n",
            "RangeIndex: 1000000 entries, 0 to 999999\n",
            "Columns: 288 entries, Unnamed: 0 to target\n",
            "dtypes: float64(240), int64(48)\n",
            "memory usage: 2.1 GB\n"
          ]
        }
      ]
    },
    {
      "cell_type": "code",
      "metadata": {
        "colab": {
          "base_uri": "https://localhost:8080/"
        },
        "id": "lBT1ToQa1Vvr",
        "outputId": "4a755991-5f96-4273-d830-ffbda042ad50"
      },
      "source": [
        "for column in df:\n",
        "  c_min = df[column].min()\n",
        "  c_max = df[column].max()\n",
        "  if df[column].dtype=='float64':\n",
        "     if (\n",
        "        c_min > np.finfo(np.float16).min\n",
        "        and c_max < np.finfo(np.float16).max\n",
        "     ):\n",
        "        df[column] = df[column].astype(np.float16)\n",
        "     else: df[column] = df[column].astype(np.float32)   \n",
        "    #df[column]=pd.to_numeric(df[column], downcast='float16')\n",
        "  if df[column].dtype=='int64':\n",
        "    df[column]=pd.to_numeric(df[column], downcast='integer')\n",
        "df.info(memory_usage='deep')   "
      ],
      "execution_count": 4,
      "outputs": [
        {
          "output_type": "stream",
          "name": "stdout",
          "text": [
            "<class 'pandas.core.frame.DataFrame'>\n",
            "RangeIndex: 1000000 entries, 0 to 999999\n",
            "Columns: 288 entries, Unnamed: 0 to target\n",
            "dtypes: float16(240), int32(2), int8(46)\n",
            "memory usage: 509.3 MB\n"
          ]
        }
      ]
    },
    {
      "cell_type": "code",
      "metadata": {
        "id": "99HOUCAy4Gok"
      },
      "source": [
        "df.to_csv('/content/drive/MyDrive/DF_opt.csv.gz')"
      ],
      "execution_count": null,
      "outputs": []
    },
    {
      "cell_type": "code",
      "metadata": {
        "id": "lil4GnZpjtb1",
        "colab": {
          "base_uri": "https://localhost:8080/"
        },
        "outputId": "dc559cd8-5e94-49ce-f368-661e765c2dfc"
      },
      "source": [
        "#Check for missing data\n",
        "missing = df.columns[df.isnull().any()]\n",
        "print(missing)"
      ],
      "execution_count": null,
      "outputs": [
        {
          "output_type": "stream",
          "name": "stdout",
          "text": [
            "Index([], dtype='object')\n"
          ]
        }
      ]
    },
    {
      "cell_type": "markdown",
      "metadata": {
        "id": "JUP7IoOSjtb5"
      },
      "source": [
        "No data missing, GREAT!\n",
        "Let's remove id column"
      ]
    },
    {
      "cell_type": "code",
      "metadata": {
        "id": "Txb9IBtojtcA"
      },
      "source": [
        "df = df.iloc[:, 1:]"
      ],
      "execution_count": 8,
      "outputs": []
    },
    {
      "cell_type": "code",
      "metadata": {
        "id": "4Z-6EK_BjtcI",
        "colab": {
          "base_uri": "https://localhost:8080/"
        },
        "outputId": "6f1081f4-3aee-4daa-e289-2e0cce250d41"
      },
      "source": [
        "df.shape"
      ],
      "execution_count": 6,
      "outputs": [
        {
          "output_type": "execute_result",
          "data": {
            "text/plain": [
              "(1000000, 287)"
            ]
          },
          "metadata": {},
          "execution_count": 6
        }
      ]
    },
    {
      "cell_type": "code",
      "metadata": {
        "id": "9lQVZwlpjtcL"
      },
      "source": [
        "df['f0'].plot(figsize=(20,4))\n",
        "df['f100'].plot(figsize=(20,4))"
      ],
      "execution_count": null,
      "outputs": []
    },
    {
      "cell_type": "code",
      "metadata": {
        "id": "fWyMfw7djtcQ",
        "colab": {
          "base_uri": "https://localhost:8080/",
          "height": 256
        },
        "outputId": "e685bc57-3b74-4fdc-c731-4e5976b48e8b"
      },
      "source": [
        "#Let's separate features and labels\n",
        "x_tr = df.iloc[:, :-1]\n",
        "y_tr = df.iloc[:,-1]\n",
        "x_tr.head()"
      ],
      "execution_count": 9,
      "outputs": [
        {
          "output_type": "execute_result",
          "data": {
            "text/html": [
              "<div>\n",
              "<style scoped>\n",
              "    .dataframe tbody tr th:only-of-type {\n",
              "        vertical-align: middle;\n",
              "    }\n",
              "\n",
              "    .dataframe tbody tr th {\n",
              "        vertical-align: top;\n",
              "    }\n",
              "\n",
              "    .dataframe thead th {\n",
              "        text-align: right;\n",
              "    }\n",
              "</style>\n",
              "<table border=\"1\" class=\"dataframe\">\n",
              "  <thead>\n",
              "    <tr style=\"text-align: right;\">\n",
              "      <th></th>\n",
              "      <th>f0</th>\n",
              "      <th>f1</th>\n",
              "      <th>f2</th>\n",
              "      <th>f3</th>\n",
              "      <th>f4</th>\n",
              "      <th>f5</th>\n",
              "      <th>f6</th>\n",
              "      <th>f7</th>\n",
              "      <th>f8</th>\n",
              "      <th>f9</th>\n",
              "      <th>f10</th>\n",
              "      <th>f11</th>\n",
              "      <th>f12</th>\n",
              "      <th>f13</th>\n",
              "      <th>f14</th>\n",
              "      <th>f15</th>\n",
              "      <th>f16</th>\n",
              "      <th>f17</th>\n",
              "      <th>f18</th>\n",
              "      <th>f19</th>\n",
              "      <th>f20</th>\n",
              "      <th>f21</th>\n",
              "      <th>f22</th>\n",
              "      <th>f23</th>\n",
              "      <th>f24</th>\n",
              "      <th>f25</th>\n",
              "      <th>f26</th>\n",
              "      <th>f27</th>\n",
              "      <th>f28</th>\n",
              "      <th>f29</th>\n",
              "      <th>f30</th>\n",
              "      <th>f31</th>\n",
              "      <th>f32</th>\n",
              "      <th>f33</th>\n",
              "      <th>f34</th>\n",
              "      <th>f35</th>\n",
              "      <th>f36</th>\n",
              "      <th>f37</th>\n",
              "      <th>f38</th>\n",
              "      <th>f39</th>\n",
              "      <th>...</th>\n",
              "      <th>f245</th>\n",
              "      <th>f246</th>\n",
              "      <th>f247</th>\n",
              "      <th>f248</th>\n",
              "      <th>f249</th>\n",
              "      <th>f250</th>\n",
              "      <th>f251</th>\n",
              "      <th>f252</th>\n",
              "      <th>f253</th>\n",
              "      <th>f254</th>\n",
              "      <th>f255</th>\n",
              "      <th>f256</th>\n",
              "      <th>f257</th>\n",
              "      <th>f258</th>\n",
              "      <th>f259</th>\n",
              "      <th>f260</th>\n",
              "      <th>f261</th>\n",
              "      <th>f262</th>\n",
              "      <th>f263</th>\n",
              "      <th>f264</th>\n",
              "      <th>f265</th>\n",
              "      <th>f266</th>\n",
              "      <th>f267</th>\n",
              "      <th>f268</th>\n",
              "      <th>f269</th>\n",
              "      <th>f270</th>\n",
              "      <th>f271</th>\n",
              "      <th>f272</th>\n",
              "      <th>f273</th>\n",
              "      <th>f274</th>\n",
              "      <th>f275</th>\n",
              "      <th>f276</th>\n",
              "      <th>f277</th>\n",
              "      <th>f278</th>\n",
              "      <th>f279</th>\n",
              "      <th>f280</th>\n",
              "      <th>f281</th>\n",
              "      <th>f282</th>\n",
              "      <th>f283</th>\n",
              "      <th>f284</th>\n",
              "    </tr>\n",
              "  </thead>\n",
              "  <tbody>\n",
              "    <tr>\n",
              "      <th>0</th>\n",
              "      <td>0.205933</td>\n",
              "      <td>0.410889</td>\n",
              "      <td>0.176758</td>\n",
              "      <td>0.223633</td>\n",
              "      <td>0.423584</td>\n",
              "      <td>0.476074</td>\n",
              "      <td>0.413574</td>\n",
              "      <td>0.611816</td>\n",
              "      <td>0.534668</td>\n",
              "      <td>0.147339</td>\n",
              "      <td>0.026184</td>\n",
              "      <td>0.106628</td>\n",
              "      <td>0.200928</td>\n",
              "      <td>0.713379</td>\n",
              "      <td>0.155762</td>\n",
              "      <td>0.557129</td>\n",
              "      <td>0.341797</td>\n",
              "      <td>0.285645</td>\n",
              "      <td>0.230347</td>\n",
              "      <td>0.203979</td>\n",
              "      <td>0.509766</td>\n",
              "      <td>0.707031</td>\n",
              "      <td>1</td>\n",
              "      <td>0.007793</td>\n",
              "      <td>0.247803</td>\n",
              "      <td>0.263672</td>\n",
              "      <td>0.259521</td>\n",
              "      <td>0.231689</td>\n",
              "      <td>0.138428</td>\n",
              "      <td>0.197876</td>\n",
              "      <td>0.054382</td>\n",
              "      <td>0.194214</td>\n",
              "      <td>0.281494</td>\n",
              "      <td>0.034821</td>\n",
              "      <td>0.025330</td>\n",
              "      <td>0.114441</td>\n",
              "      <td>0.139160</td>\n",
              "      <td>0.246216</td>\n",
              "      <td>0.251465</td>\n",
              "      <td>0.701660</td>\n",
              "      <td>...</td>\n",
              "      <td>1</td>\n",
              "      <td>1</td>\n",
              "      <td>0</td>\n",
              "      <td>0</td>\n",
              "      <td>0</td>\n",
              "      <td>0</td>\n",
              "      <td>0</td>\n",
              "      <td>0</td>\n",
              "      <td>1</td>\n",
              "      <td>0</td>\n",
              "      <td>1</td>\n",
              "      <td>1</td>\n",
              "      <td>0</td>\n",
              "      <td>0</td>\n",
              "      <td>0</td>\n",
              "      <td>1</td>\n",
              "      <td>0</td>\n",
              "      <td>0</td>\n",
              "      <td>1</td>\n",
              "      <td>1</td>\n",
              "      <td>0</td>\n",
              "      <td>0</td>\n",
              "      <td>0</td>\n",
              "      <td>1</td>\n",
              "      <td>1</td>\n",
              "      <td>0</td>\n",
              "      <td>1</td>\n",
              "      <td>0</td>\n",
              "      <td>1</td>\n",
              "      <td>1</td>\n",
              "      <td>0</td>\n",
              "      <td>0</td>\n",
              "      <td>1</td>\n",
              "      <td>0</td>\n",
              "      <td>0</td>\n",
              "      <td>0</td>\n",
              "      <td>0</td>\n",
              "      <td>0</td>\n",
              "      <td>0</td>\n",
              "      <td>0</td>\n",
              "    </tr>\n",
              "    <tr>\n",
              "      <th>1</th>\n",
              "      <td>0.181030</td>\n",
              "      <td>0.473145</td>\n",
              "      <td>0.011734</td>\n",
              "      <td>0.213623</td>\n",
              "      <td>0.619629</td>\n",
              "      <td>0.441650</td>\n",
              "      <td>0.230347</td>\n",
              "      <td>0.686035</td>\n",
              "      <td>0.281982</td>\n",
              "      <td>0.238525</td>\n",
              "      <td>0.493408</td>\n",
              "      <td>0.107300</td>\n",
              "      <td>0.231812</td>\n",
              "      <td>0.457031</td>\n",
              "      <td>0.395264</td>\n",
              "      <td>0.617188</td>\n",
              "      <td>0.459473</td>\n",
              "      <td>0.209229</td>\n",
              "      <td>0.201050</td>\n",
              "      <td>0.199341</td>\n",
              "      <td>0.366699</td>\n",
              "      <td>0.585938</td>\n",
              "      <td>1</td>\n",
              "      <td>0.285400</td>\n",
              "      <td>0.400391</td>\n",
              "      <td>0.162476</td>\n",
              "      <td>0.249390</td>\n",
              "      <td>0.141113</td>\n",
              "      <td>0.133667</td>\n",
              "      <td>0.247925</td>\n",
              "      <td>0.139282</td>\n",
              "      <td>0.216431</td>\n",
              "      <td>0.109680</td>\n",
              "      <td>0.033020</td>\n",
              "      <td>0.017456</td>\n",
              "      <td>0.189331</td>\n",
              "      <td>0.168823</td>\n",
              "      <td>0.184204</td>\n",
              "      <td>0.202759</td>\n",
              "      <td>0.218506</td>\n",
              "      <td>...</td>\n",
              "      <td>0</td>\n",
              "      <td>1</td>\n",
              "      <td>0</td>\n",
              "      <td>0</td>\n",
              "      <td>1</td>\n",
              "      <td>0</td>\n",
              "      <td>1</td>\n",
              "      <td>0</td>\n",
              "      <td>1</td>\n",
              "      <td>1</td>\n",
              "      <td>0</td>\n",
              "      <td>0</td>\n",
              "      <td>0</td>\n",
              "      <td>1</td>\n",
              "      <td>0</td>\n",
              "      <td>0</td>\n",
              "      <td>0</td>\n",
              "      <td>0</td>\n",
              "      <td>1</td>\n",
              "      <td>1</td>\n",
              "      <td>0</td>\n",
              "      <td>1</td>\n",
              "      <td>1</td>\n",
              "      <td>0</td>\n",
              "      <td>0</td>\n",
              "      <td>0</td>\n",
              "      <td>1</td>\n",
              "      <td>0</td>\n",
              "      <td>0</td>\n",
              "      <td>1</td>\n",
              "      <td>1</td>\n",
              "      <td>0</td>\n",
              "      <td>1</td>\n",
              "      <td>0</td>\n",
              "      <td>0</td>\n",
              "      <td>0</td>\n",
              "      <td>0</td>\n",
              "      <td>0</td>\n",
              "      <td>0</td>\n",
              "      <td>0</td>\n",
              "    </tr>\n",
              "    <tr>\n",
              "      <th>2</th>\n",
              "      <td>0.182617</td>\n",
              "      <td>0.307373</td>\n",
              "      <td>0.325928</td>\n",
              "      <td>0.207153</td>\n",
              "      <td>0.605469</td>\n",
              "      <td>0.309814</td>\n",
              "      <td>0.493408</td>\n",
              "      <td>0.750977</td>\n",
              "      <td>0.536133</td>\n",
              "      <td>0.286865</td>\n",
              "      <td>0.139526</td>\n",
              "      <td>0.107239</td>\n",
              "      <td>0.247803</td>\n",
              "      <td>0.631836</td>\n",
              "      <td>0.347412</td>\n",
              "      <td>0.642090</td>\n",
              "      <td>0.257812</td>\n",
              "      <td>0.162598</td>\n",
              "      <td>0.327393</td>\n",
              "      <td>0.193604</td>\n",
              "      <td>0.495361</td>\n",
              "      <td>0.636719</td>\n",
              "      <td>0</td>\n",
              "      <td>0.007133</td>\n",
              "      <td>0.309814</td>\n",
              "      <td>0.221069</td>\n",
              "      <td>0.284912</td>\n",
              "      <td>0.230835</td>\n",
              "      <td>0.138306</td>\n",
              "      <td>0.199707</td>\n",
              "      <td>0.060394</td>\n",
              "      <td>0.146729</td>\n",
              "      <td>0.208130</td>\n",
              "      <td>0.035980</td>\n",
              "      <td>0.022629</td>\n",
              "      <td>0.113525</td>\n",
              "      <td>0.274902</td>\n",
              "      <td>0.182739</td>\n",
              "      <td>0.151489</td>\n",
              "      <td>0.569824</td>\n",
              "      <td>...</td>\n",
              "      <td>1</td>\n",
              "      <td>1</td>\n",
              "      <td>1</td>\n",
              "      <td>0</td>\n",
              "      <td>0</td>\n",
              "      <td>1</td>\n",
              "      <td>0</td>\n",
              "      <td>0</td>\n",
              "      <td>0</td>\n",
              "      <td>0</td>\n",
              "      <td>0</td>\n",
              "      <td>0</td>\n",
              "      <td>0</td>\n",
              "      <td>1</td>\n",
              "      <td>1</td>\n",
              "      <td>0</td>\n",
              "      <td>1</td>\n",
              "      <td>0</td>\n",
              "      <td>0</td>\n",
              "      <td>0</td>\n",
              "      <td>0</td>\n",
              "      <td>0</td>\n",
              "      <td>0</td>\n",
              "      <td>0</td>\n",
              "      <td>0</td>\n",
              "      <td>1</td>\n",
              "      <td>1</td>\n",
              "      <td>0</td>\n",
              "      <td>0</td>\n",
              "      <td>1</td>\n",
              "      <td>0</td>\n",
              "      <td>0</td>\n",
              "      <td>0</td>\n",
              "      <td>0</td>\n",
              "      <td>1</td>\n",
              "      <td>1</td>\n",
              "      <td>0</td>\n",
              "      <td>0</td>\n",
              "      <td>0</td>\n",
              "      <td>0</td>\n",
              "    </tr>\n",
              "    <tr>\n",
              "      <th>3</th>\n",
              "      <td>0.180298</td>\n",
              "      <td>0.494629</td>\n",
              "      <td>0.008369</td>\n",
              "      <td>0.223633</td>\n",
              "      <td>0.760742</td>\n",
              "      <td>0.439209</td>\n",
              "      <td>0.432129</td>\n",
              "      <td>0.776367</td>\n",
              "      <td>0.483887</td>\n",
              "      <td>0.260986</td>\n",
              "      <td>0.147095</td>\n",
              "      <td>0.105408</td>\n",
              "      <td>0.287842</td>\n",
              "      <td>0.455811</td>\n",
              "      <td>0.247925</td>\n",
              "      <td>0.616699</td>\n",
              "      <td>0.335938</td>\n",
              "      <td>0.336914</td>\n",
              "      <td>0.239136</td>\n",
              "      <td>0.176147</td>\n",
              "      <td>0.538086</td>\n",
              "      <td>0.706543</td>\n",
              "      <td>1</td>\n",
              "      <td>0.008827</td>\n",
              "      <td>0.353760</td>\n",
              "      <td>0.219971</td>\n",
              "      <td>0.266846</td>\n",
              "      <td>0.145630</td>\n",
              "      <td>0.138550</td>\n",
              "      <td>0.234985</td>\n",
              "      <td>0.059814</td>\n",
              "      <td>0.140869</td>\n",
              "      <td>0.205078</td>\n",
              "      <td>0.319336</td>\n",
              "      <td>0.009972</td>\n",
              "      <td>0.112305</td>\n",
              "      <td>0.288818</td>\n",
              "      <td>0.332520</td>\n",
              "      <td>0.140869</td>\n",
              "      <td>0.473877</td>\n",
              "      <td>...</td>\n",
              "      <td>1</td>\n",
              "      <td>1</td>\n",
              "      <td>1</td>\n",
              "      <td>0</td>\n",
              "      <td>1</td>\n",
              "      <td>1</td>\n",
              "      <td>0</td>\n",
              "      <td>1</td>\n",
              "      <td>1</td>\n",
              "      <td>0</td>\n",
              "      <td>1</td>\n",
              "      <td>0</td>\n",
              "      <td>0</td>\n",
              "      <td>0</td>\n",
              "      <td>0</td>\n",
              "      <td>0</td>\n",
              "      <td>0</td>\n",
              "      <td>0</td>\n",
              "      <td>0</td>\n",
              "      <td>1</td>\n",
              "      <td>0</td>\n",
              "      <td>1</td>\n",
              "      <td>1</td>\n",
              "      <td>0</td>\n",
              "      <td>0</td>\n",
              "      <td>1</td>\n",
              "      <td>0</td>\n",
              "      <td>0</td>\n",
              "      <td>0</td>\n",
              "      <td>0</td>\n",
              "      <td>1</td>\n",
              "      <td>0</td>\n",
              "      <td>0</td>\n",
              "      <td>0</td>\n",
              "      <td>0</td>\n",
              "      <td>1</td>\n",
              "      <td>0</td>\n",
              "      <td>0</td>\n",
              "      <td>0</td>\n",
              "      <td>0</td>\n",
              "    </tr>\n",
              "    <tr>\n",
              "      <th>4</th>\n",
              "      <td>0.177124</td>\n",
              "      <td>0.495605</td>\n",
              "      <td>0.014259</td>\n",
              "      <td>0.548828</td>\n",
              "      <td>0.625488</td>\n",
              "      <td>0.562500</td>\n",
              "      <td>0.117188</td>\n",
              "      <td>0.561035</td>\n",
              "      <td>0.077087</td>\n",
              "      <td>0.158325</td>\n",
              "      <td>0.260254</td>\n",
              "      <td>0.102539</td>\n",
              "      <td>0.265381</td>\n",
              "      <td>0.503906</td>\n",
              "      <td>0.269775</td>\n",
              "      <td>0.545898</td>\n",
              "      <td>0.319580</td>\n",
              "      <td>0.278564</td>\n",
              "      <td>0.214966</td>\n",
              "      <td>0.200195</td>\n",
              "      <td>0.534668</td>\n",
              "      <td>0.728516</td>\n",
              "      <td>0</td>\n",
              "      <td>0.004841</td>\n",
              "      <td>0.323486</td>\n",
              "      <td>0.166260</td>\n",
              "      <td>0.285400</td>\n",
              "      <td>0.208618</td>\n",
              "      <td>0.200439</td>\n",
              "      <td>0.198120</td>\n",
              "      <td>0.414795</td>\n",
              "      <td>0.251953</td>\n",
              "      <td>0.193359</td>\n",
              "      <td>0.034485</td>\n",
              "      <td>0.016464</td>\n",
              "      <td>0.197266</td>\n",
              "      <td>0.207397</td>\n",
              "      <td>0.255859</td>\n",
              "      <td>0.139893</td>\n",
              "      <td>0.321045</td>\n",
              "      <td>...</td>\n",
              "      <td>1</td>\n",
              "      <td>0</td>\n",
              "      <td>0</td>\n",
              "      <td>0</td>\n",
              "      <td>1</td>\n",
              "      <td>1</td>\n",
              "      <td>1</td>\n",
              "      <td>0</td>\n",
              "      <td>1</td>\n",
              "      <td>0</td>\n",
              "      <td>1</td>\n",
              "      <td>0</td>\n",
              "      <td>0</td>\n",
              "      <td>1</td>\n",
              "      <td>1</td>\n",
              "      <td>0</td>\n",
              "      <td>1</td>\n",
              "      <td>0</td>\n",
              "      <td>0</td>\n",
              "      <td>0</td>\n",
              "      <td>1</td>\n",
              "      <td>0</td>\n",
              "      <td>0</td>\n",
              "      <td>0</td>\n",
              "      <td>0</td>\n",
              "      <td>1</td>\n",
              "      <td>1</td>\n",
              "      <td>0</td>\n",
              "      <td>0</td>\n",
              "      <td>1</td>\n",
              "      <td>0</td>\n",
              "      <td>0</td>\n",
              "      <td>1</td>\n",
              "      <td>1</td>\n",
              "      <td>0</td>\n",
              "      <td>1</td>\n",
              "      <td>0</td>\n",
              "      <td>0</td>\n",
              "      <td>1</td>\n",
              "      <td>0</td>\n",
              "    </tr>\n",
              "  </tbody>\n",
              "</table>\n",
              "<p>5 rows × 285 columns</p>\n",
              "</div>"
            ],
            "text/plain": [
              "         f0        f1        f2        f3  ...  f281  f282  f283  f284\n",
              "0  0.205933  0.410889  0.176758  0.223633  ...     0     0     0     0\n",
              "1  0.181030  0.473145  0.011734  0.213623  ...     0     0     0     0\n",
              "2  0.182617  0.307373  0.325928  0.207153  ...     0     0     0     0\n",
              "3  0.180298  0.494629  0.008369  0.223633  ...     0     0     0     0\n",
              "4  0.177124  0.495605  0.014259  0.548828  ...     0     0     1     0\n",
              "\n",
              "[5 rows x 285 columns]"
            ]
          },
          "metadata": {},
          "execution_count": 9
        }
      ]
    },
    {
      "cell_type": "code",
      "metadata": {
        "id": "k0cb36tWLgtr"
      },
      "source": [
        "#Not good in this case\n",
        "from sklearn.feature_selection import VarianceThreshold\n",
        "sel = VarianceThreshold(threshold=(.8 * (1 - .8)))\n",
        "sel.fit_transform(x_tr)"
      ],
      "execution_count": null,
      "outputs": []
    },
    {
      "cell_type": "code",
      "metadata": {
        "colab": {
          "base_uri": "https://localhost:8080/"
        },
        "id": "pXj76x9tMfc4",
        "outputId": "22a1d885-e235-4fc4-a4ff-d8c74754c42d"
      },
      "source": [
        "x_tr.shape"
      ],
      "execution_count": 10,
      "outputs": [
        {
          "output_type": "execute_result",
          "data": {
            "text/plain": [
              "(1000000, 285)"
            ]
          },
          "metadata": {},
          "execution_count": 10
        }
      ]
    },
    {
      "cell_type": "code",
      "metadata": {
        "id": "2gnd95-KjtcY",
        "colab": {
          "base_uri": "https://localhost:8080/"
        },
        "outputId": "a949178b-4381-4890-d529-d53262633b61"
      },
      "source": [
        "#Global maximum including label\n",
        "df.to_numpy().max()"
      ],
      "execution_count": null,
      "outputs": [
        {
          "output_type": "execute_result",
          "data": {
            "text/plain": [
              "1.0"
            ]
          },
          "metadata": {},
          "execution_count": 11
        }
      ]
    },
    {
      "cell_type": "code",
      "metadata": {
        "id": "4MZoTnK_jtcd",
        "colab": {
          "base_uri": "https://localhost:8080/"
        },
        "outputId": "580eeac3-f2d7-45c2-e0e5-43aef7719749"
      },
      "source": [
        "#Global minimum including label\n",
        "df.to_numpy().min()"
      ],
      "execution_count": null,
      "outputs": [
        {
          "output_type": "execute_result",
          "data": {
            "text/plain": [
              "0.0"
            ]
          },
          "metadata": {},
          "execution_count": 12
        }
      ]
    },
    {
      "cell_type": "code",
      "metadata": {
        "colab": {
          "base_uri": "https://localhost:8080/"
        },
        "id": "JmoZxkWQN61v",
        "outputId": "7e231e2d-1660-4102-d42a-b89f4f85e723"
      },
      "source": [
        "df['target'].value_counts()"
      ],
      "execution_count": 7,
      "outputs": [
        {
          "output_type": "execute_result",
          "data": {
            "text/plain": [
              "1    500485\n",
              "0    499515\n",
              "Name: target, dtype: int64"
            ]
          },
          "metadata": {},
          "execution_count": 7
        }
      ]
    },
    {
      "cell_type": "code",
      "metadata": {
        "id": "PbwarbXHjtci"
      },
      "source": [
        "#Dimensionality reduction\n",
        "#lda = LDA(n_components=10)\n",
        "#X_train = lda.fit_transform(x, y)\n",
        "\n",
        "#let's try this as above crashes the system\n",
        "\n",
        "#pca = PCA(n_components=120)\n",
        "#x_pca = pca.fit_transform(x_tr)\n",
        "\n",
        "\n",
        "X_embedded = TSNE(n_components=3).fit_transform(x_tr)\n",
        "X_embedded.shape"
      ],
      "execution_count": null,
      "outputs": []
    },
    {
      "cell_type": "code",
      "metadata": {
        "id": "A8S8n-pTWlb6",
        "colab": {
          "base_uri": "https://localhost:8080/"
        },
        "outputId": "5ef6e69c-2944-4272-901b-bec4ed3c0d2a"
      },
      "source": [
        "#Check how much variance is covered with each component. Four equals close to ??%\n",
        "#lda.explained_variance_ratio_\n",
        "pca.explained_variance_ratio_.sum()"
      ],
      "execution_count": null,
      "outputs": [
        {
          "output_type": "execute_result",
          "data": {
            "text/plain": [
              "0.9274228418893695"
            ]
          },
          "metadata": {},
          "execution_count": 15
        }
      ]
    },
    {
      "cell_type": "code",
      "metadata": {
        "id": "xoQh714CKd-2"
      },
      "source": [
        "#Pick few features to see distribution\n",
        "test = x_train.iloc[:,0:4] \n",
        "test['target'] = y_tr.values\n",
        "sns.pairplot(test, hue='target')"
      ],
      "execution_count": null,
      "outputs": []
    },
    {
      "cell_type": "code",
      "metadata": {
        "id": "gdOLiLAnKg4m"
      },
      "source": [
        "#Sum of target to check label balance\n",
        "total = test['target'].sum()\n",
        "r, c = test.shape\n",
        "rate = total/r\n",
        "print(rate)"
      ],
      "execution_count": null,
      "outputs": []
    },
    {
      "cell_type": "code",
      "metadata": {
        "id": "wXjYBjdyKkEY"
      },
      "source": [
        "#clf = MLPClassifier(random_state=1, max_iter=100).fit(x_train, y)\n",
        "clf = MLPClassifier(hidden_layer_sizes=(20,10,2), max_iter=300, activation = 'relu', solver = 'adam').fit(x_train, y_tr)"
      ],
      "execution_count": null,
      "outputs": []
    },
    {
      "cell_type": "code",
      "metadata": {
        "id": "c4xibmLXuVR3"
      },
      "source": [
        "# first neural network with keras tutorial\n",
        "from numpy import loadtxt\n",
        "from keras.models import Sequential\n",
        "from keras.layers import Dense\n",
        "# define the keras model\n",
        "model = Sequential()\n",
        "model.add(Dense(8, input_dim=285,kernel_initializer='normal', activation='relu'))\n",
        "model.add(Dense(8, kernel_initializer='normal', activation='relu'))\n",
        "model.add(Dense(1, activation='sigmoid'))\n",
        "# compile the keras model\n",
        "model.compile(loss='binary_crossentropy', optimizer='sgd', metrics=['accuracy'])\n",
        "# fit the keras model on the dataset\n",
        "model.fit(x_tr, y_tr, epochs=6, batch_size=10)\n",
        "# evaluate the keras model\n",
        "_, accuracy = model.evaluate(x_tr, y_tr)\n",
        "print('Accuracy: %.2f' % (accuracy*100))"
      ],
      "execution_count": null,
      "outputs": []
    },
    {
      "cell_type": "code",
      "metadata": {
        "id": "zItUfakVtQ2E"
      },
      "source": [
        "clf = svm.SVC()\n",
        "clf.fit(x_tr, y_tr)"
      ],
      "execution_count": null,
      "outputs": []
    },
    {
      "cell_type": "code",
      "metadata": {
        "colab": {
          "base_uri": "https://localhost:8080/"
        },
        "id": "ZWpOn4nvvgn1",
        "outputId": "9d8793d8-68e6-4c06-8108-6d0643cf78aa"
      },
      "source": [
        "import xgboost as xgb\n",
        "from sklearn.model_selection import KFold, train_test_split, GridSearchCV\n",
        "from sklearn.metrics import confusion_matrix, mean_squared_error\n",
        "from sklearn.datasets import load_digits\n",
        "\n",
        "rng = np.random.RandomState(31337)\n",
        "print(\"Zeros and Ones from the Digits dataset: binary classification\")\n",
        "digits = load_digits(n_class=2)\n",
        "kf = KFold(n_splits=2, shuffle=True, random_state=rng)\n",
        "for train_index, test_index in kf.split(x_tr):\n",
        "    print(train_index, test_index)\n",
        "    xgb_model = xgb.XGBClassifier(n_jobs=1).fit(x_tr.iloc[train_index], y_tr.iloc[train_index])\n",
        "    predictions = xgb_model.predict(x_tr.iloc[test_index])\n",
        "    actuals = y_tr.iloc[test_index]\n",
        "    print(confusion_matrix(actuals, predictions))"
      ],
      "execution_count": 11,
      "outputs": [
        {
          "output_type": "stream",
          "name": "stdout",
          "text": [
            "Zeros and Ones from the Digits dataset: binary classification\n",
            "[     0      2      4 ... 999994 999995 999996] [     1      3      6 ... 999997 999998 999999]\n",
            "[[204612  45150]\n",
            " [ 74176 176062]]\n",
            "[     1      3      6 ... 999997 999998 999999] [     0      2      4 ... 999994 999995 999996]\n",
            "[[204826  44927]\n",
            " [ 73745 176502]]\n"
          ]
        }
      ]
    },
    {
      "cell_type": "code",
      "metadata": {
        "id": "EMIKhH0hLf_s"
      },
      "source": [
        "#Save the xgb model\n",
        "import pickle\n",
        "file_name = '/content/drive/MyDrive/xgbModel.pkl'\n",
        "pickle.dump(xgb_model, open(file_name, \"wb\"))"
      ],
      "execution_count": 12,
      "outputs": []
    },
    {
      "cell_type": "code",
      "metadata": {
        "id": "16LVM3b7Sqdv"
      },
      "source": [
        "# load\n",
        "import pickle\n",
        "file_name = '/content/drive/MyDrive/xgbModel.pkl'\n",
        "xgb_model_loaded = pickle.load(open(file_name, \"rb\"))\n",
        "\n",
        "# test\n",
        "ind = 1\n",
        "test = X_val[ind]\n",
        "xgb_model_loaded.predict(test)[0] == xgb_model.predict(test)[0]"
      ],
      "execution_count": null,
      "outputs": []
    },
    {
      "cell_type": "code",
      "metadata": {
        "colab": {
          "base_uri": "https://localhost:8080/"
        },
        "id": "-j5_giBY_GW7",
        "outputId": "6e81757c-f3b1-4937-f850-4d6f5480ada9"
      },
      "source": [
        "from sklearn.metrics import accuracy_score\n",
        "accuracy_score(y_tr[test_index], predictions)\n"
      ],
      "execution_count": 13,
      "outputs": [
        {
          "output_type": "execute_result",
          "data": {
            "text/plain": [
              "0.762656"
            ]
          },
          "metadata": {},
          "execution_count": 13
        }
      ]
    },
    {
      "cell_type": "code",
      "metadata": {
        "id": "-ig98DRmJb_I"
      },
      "source": [
        "from sklearn.neighbors import KNeighborsClassifier\n",
        "clf = KNeighborsClassifier(n_neighbors=3)\n",
        "clf.fit(x_tr, y_tr)"
      ],
      "execution_count": null,
      "outputs": []
    },
    {
      "cell_type": "code",
      "metadata": {
        "id": "d097jZv7L6nN"
      },
      "source": [
        "range_k = range(2,5)\n",
        "for k in range_k:\n",
        "   classifier = KNeighborsClassifier(n_neighbors=k)\n",
        "   classifier.fit(x_tr, y_tr)\n",
        "   preds = classifier.predict_proba(xt)\n",
        "   print(k, classifier.score(x_tr, y_tr))\n",
        "   #scores[k] = metrics.accuracy_score(y_test,y_pred)\n",
        "   #scores_list.append(metrics.accuracy_score(y_test,y_pred))"
      ],
      "execution_count": null,
      "outputs": []
    },
    {
      "cell_type": "code",
      "metadata": {
        "colab": {
          "base_uri": "https://localhost:8080/"
        },
        "id": "klgpICV9xvjX",
        "outputId": "5095dad3-d1e8-4d21-b23b-42b666bd2257"
      },
      "source": [
        "cross_val_score(clf, x_tr, y_tr, cv=10)"
      ],
      "execution_count": null,
      "outputs": [
        {
          "output_type": "execute_result",
          "data": {
            "text/plain": [
              "array([0.66552, 0.668  , 0.66936, 0.66839, 0.66931, 0.66766, 0.6669 ,\n",
              "       0.66421, 0.66315, 0.6637 ])"
            ]
          },
          "metadata": {},
          "execution_count": 14
        }
      ]
    },
    {
      "cell_type": "code",
      "metadata": {
        "colab": {
          "base_uri": "https://localhost:8080/"
        },
        "id": "evKnRjEKPUpn",
        "outputId": "c7c79e76-43fa-453d-f019-dc22c2f5de13"
      },
      "source": [
        "clf.score(x_train, y_tr)"
      ],
      "execution_count": null,
      "outputs": [
        {
          "output_type": "execute_result",
          "data": {
            "text/plain": [
              "0.7582"
            ]
          },
          "metadata": {},
          "execution_count": 24
        }
      ]
    },
    {
      "cell_type": "code",
      "metadata": {
        "id": "NRzG_ep8W5lL"
      },
      "source": [
        "dfTe = pd.read_csv('/content/drive/MyDrive/test.csv.gz')"
      ],
      "execution_count": 14,
      "outputs": []
    },
    {
      "cell_type": "code",
      "metadata": {
        "id": "1XOlYbIZsJIn"
      },
      "source": [
        "dfTe.head()"
      ],
      "execution_count": null,
      "outputs": []
    },
    {
      "cell_type": "code",
      "metadata": {
        "colab": {
          "base_uri": "https://localhost:8080/",
          "height": 256
        },
        "id": "FTan9LmPXIfw",
        "outputId": "d82f758b-4ea1-41b7-9507-d76aa152ce3f"
      },
      "source": [
        "#Let's remove index column\n",
        "xt = dfTe.iloc[:, 1:]\n",
        "xt.head()"
      ],
      "execution_count": 15,
      "outputs": [
        {
          "output_type": "execute_result",
          "data": {
            "text/html": [
              "<div>\n",
              "<style scoped>\n",
              "    .dataframe tbody tr th:only-of-type {\n",
              "        vertical-align: middle;\n",
              "    }\n",
              "\n",
              "    .dataframe tbody tr th {\n",
              "        vertical-align: top;\n",
              "    }\n",
              "\n",
              "    .dataframe thead th {\n",
              "        text-align: right;\n",
              "    }\n",
              "</style>\n",
              "<table border=\"1\" class=\"dataframe\">\n",
              "  <thead>\n",
              "    <tr style=\"text-align: right;\">\n",
              "      <th></th>\n",
              "      <th>f0</th>\n",
              "      <th>f1</th>\n",
              "      <th>f2</th>\n",
              "      <th>f3</th>\n",
              "      <th>f4</th>\n",
              "      <th>f5</th>\n",
              "      <th>f6</th>\n",
              "      <th>f7</th>\n",
              "      <th>f8</th>\n",
              "      <th>f9</th>\n",
              "      <th>f10</th>\n",
              "      <th>f11</th>\n",
              "      <th>f12</th>\n",
              "      <th>f13</th>\n",
              "      <th>f14</th>\n",
              "      <th>f15</th>\n",
              "      <th>f16</th>\n",
              "      <th>f17</th>\n",
              "      <th>f18</th>\n",
              "      <th>f19</th>\n",
              "      <th>f20</th>\n",
              "      <th>f21</th>\n",
              "      <th>f22</th>\n",
              "      <th>f23</th>\n",
              "      <th>f24</th>\n",
              "      <th>f25</th>\n",
              "      <th>f26</th>\n",
              "      <th>f27</th>\n",
              "      <th>f28</th>\n",
              "      <th>f29</th>\n",
              "      <th>f30</th>\n",
              "      <th>f31</th>\n",
              "      <th>f32</th>\n",
              "      <th>f33</th>\n",
              "      <th>f34</th>\n",
              "      <th>f35</th>\n",
              "      <th>f36</th>\n",
              "      <th>f37</th>\n",
              "      <th>f38</th>\n",
              "      <th>f39</th>\n",
              "      <th>...</th>\n",
              "      <th>f245</th>\n",
              "      <th>f246</th>\n",
              "      <th>f247</th>\n",
              "      <th>f248</th>\n",
              "      <th>f249</th>\n",
              "      <th>f250</th>\n",
              "      <th>f251</th>\n",
              "      <th>f252</th>\n",
              "      <th>f253</th>\n",
              "      <th>f254</th>\n",
              "      <th>f255</th>\n",
              "      <th>f256</th>\n",
              "      <th>f257</th>\n",
              "      <th>f258</th>\n",
              "      <th>f259</th>\n",
              "      <th>f260</th>\n",
              "      <th>f261</th>\n",
              "      <th>f262</th>\n",
              "      <th>f263</th>\n",
              "      <th>f264</th>\n",
              "      <th>f265</th>\n",
              "      <th>f266</th>\n",
              "      <th>f267</th>\n",
              "      <th>f268</th>\n",
              "      <th>f269</th>\n",
              "      <th>f270</th>\n",
              "      <th>f271</th>\n",
              "      <th>f272</th>\n",
              "      <th>f273</th>\n",
              "      <th>f274</th>\n",
              "      <th>f275</th>\n",
              "      <th>f276</th>\n",
              "      <th>f277</th>\n",
              "      <th>f278</th>\n",
              "      <th>f279</th>\n",
              "      <th>f280</th>\n",
              "      <th>f281</th>\n",
              "      <th>f282</th>\n",
              "      <th>f283</th>\n",
              "      <th>f284</th>\n",
              "    </tr>\n",
              "  </thead>\n",
              "  <tbody>\n",
              "    <tr>\n",
              "      <th>0</th>\n",
              "      <td>0.178216</td>\n",
              "      <td>0.435617</td>\n",
              "      <td>0.010230</td>\n",
              "      <td>0.202074</td>\n",
              "      <td>0.390170</td>\n",
              "      <td>0.324221</td>\n",
              "      <td>0.221722</td>\n",
              "      <td>0.738894</td>\n",
              "      <td>0.582588</td>\n",
              "      <td>0.343770</td>\n",
              "      <td>0.028081</td>\n",
              "      <td>0.102890</td>\n",
              "      <td>0.263804</td>\n",
              "      <td>0.607342</td>\n",
              "      <td>0.172180</td>\n",
              "      <td>0.491036</td>\n",
              "      <td>0.326189</td>\n",
              "      <td>0.252032</td>\n",
              "      <td>0.222362</td>\n",
              "      <td>0.242405</td>\n",
              "      <td>0.471047</td>\n",
              "      <td>0.723153</td>\n",
              "      <td>0</td>\n",
              "      <td>0.151190</td>\n",
              "      <td>0.226410</td>\n",
              "      <td>0.305478</td>\n",
              "      <td>0.269863</td>\n",
              "      <td>0.139583</td>\n",
              "      <td>0.141646</td>\n",
              "      <td>0.200469</td>\n",
              "      <td>0.059474</td>\n",
              "      <td>0.283620</td>\n",
              "      <td>0.244343</td>\n",
              "      <td>0.033877</td>\n",
              "      <td>0.010561</td>\n",
              "      <td>0.112109</td>\n",
              "      <td>0.193434</td>\n",
              "      <td>0.182685</td>\n",
              "      <td>0.188303</td>\n",
              "      <td>0.419009</td>\n",
              "      <td>...</td>\n",
              "      <td>0</td>\n",
              "      <td>1</td>\n",
              "      <td>1</td>\n",
              "      <td>0</td>\n",
              "      <td>0</td>\n",
              "      <td>1</td>\n",
              "      <td>1</td>\n",
              "      <td>1</td>\n",
              "      <td>1</td>\n",
              "      <td>0</td>\n",
              "      <td>0</td>\n",
              "      <td>0</td>\n",
              "      <td>0</td>\n",
              "      <td>0</td>\n",
              "      <td>0</td>\n",
              "      <td>0</td>\n",
              "      <td>0</td>\n",
              "      <td>0</td>\n",
              "      <td>0</td>\n",
              "      <td>1</td>\n",
              "      <td>1</td>\n",
              "      <td>0</td>\n",
              "      <td>0</td>\n",
              "      <td>0</td>\n",
              "      <td>1</td>\n",
              "      <td>1</td>\n",
              "      <td>1</td>\n",
              "      <td>0</td>\n",
              "      <td>0</td>\n",
              "      <td>1</td>\n",
              "      <td>1</td>\n",
              "      <td>0</td>\n",
              "      <td>0</td>\n",
              "      <td>0</td>\n",
              "      <td>0</td>\n",
              "      <td>0</td>\n",
              "      <td>1</td>\n",
              "      <td>1</td>\n",
              "      <td>1</td>\n",
              "      <td>0</td>\n",
              "    </tr>\n",
              "    <tr>\n",
              "      <th>1</th>\n",
              "      <td>0.181250</td>\n",
              "      <td>0.476455</td>\n",
              "      <td>0.022413</td>\n",
              "      <td>0.283146</td>\n",
              "      <td>0.598020</td>\n",
              "      <td>0.349508</td>\n",
              "      <td>0.283467</td>\n",
              "      <td>0.721575</td>\n",
              "      <td>0.268990</td>\n",
              "      <td>0.208373</td>\n",
              "      <td>0.278440</td>\n",
              "      <td>0.107586</td>\n",
              "      <td>0.402494</td>\n",
              "      <td>0.594466</td>\n",
              "      <td>0.193365</td>\n",
              "      <td>0.592103</td>\n",
              "      <td>0.345882</td>\n",
              "      <td>0.257781</td>\n",
              "      <td>0.201138</td>\n",
              "      <td>0.215895</td>\n",
              "      <td>0.449694</td>\n",
              "      <td>0.627330</td>\n",
              "      <td>1</td>\n",
              "      <td>0.133139</td>\n",
              "      <td>0.438526</td>\n",
              "      <td>0.215876</td>\n",
              "      <td>0.242926</td>\n",
              "      <td>0.156744</td>\n",
              "      <td>0.143899</td>\n",
              "      <td>0.697532</td>\n",
              "      <td>0.210877</td>\n",
              "      <td>0.268969</td>\n",
              "      <td>0.209255</td>\n",
              "      <td>0.040739</td>\n",
              "      <td>0.014843</td>\n",
              "      <td>0.113464</td>\n",
              "      <td>0.187680</td>\n",
              "      <td>0.206614</td>\n",
              "      <td>0.389319</td>\n",
              "      <td>0.535426</td>\n",
              "      <td>...</td>\n",
              "      <td>1</td>\n",
              "      <td>1</td>\n",
              "      <td>1</td>\n",
              "      <td>0</td>\n",
              "      <td>0</td>\n",
              "      <td>1</td>\n",
              "      <td>0</td>\n",
              "      <td>0</td>\n",
              "      <td>1</td>\n",
              "      <td>1</td>\n",
              "      <td>0</td>\n",
              "      <td>1</td>\n",
              "      <td>0</td>\n",
              "      <td>0</td>\n",
              "      <td>1</td>\n",
              "      <td>0</td>\n",
              "      <td>0</td>\n",
              "      <td>0</td>\n",
              "      <td>0</td>\n",
              "      <td>0</td>\n",
              "      <td>0</td>\n",
              "      <td>1</td>\n",
              "      <td>1</td>\n",
              "      <td>0</td>\n",
              "      <td>0</td>\n",
              "      <td>1</td>\n",
              "      <td>1</td>\n",
              "      <td>0</td>\n",
              "      <td>0</td>\n",
              "      <td>0</td>\n",
              "      <td>0</td>\n",
              "      <td>0</td>\n",
              "      <td>0</td>\n",
              "      <td>0</td>\n",
              "      <td>0</td>\n",
              "      <td>0</td>\n",
              "      <td>0</td>\n",
              "      <td>0</td>\n",
              "      <td>0</td>\n",
              "      <td>0</td>\n",
              "    </tr>\n",
              "    <tr>\n",
              "      <th>2</th>\n",
              "      <td>0.159721</td>\n",
              "      <td>0.451202</td>\n",
              "      <td>0.259649</td>\n",
              "      <td>0.365274</td>\n",
              "      <td>0.594634</td>\n",
              "      <td>0.413502</td>\n",
              "      <td>0.249318</td>\n",
              "      <td>0.642339</td>\n",
              "      <td>0.411104</td>\n",
              "      <td>0.246891</td>\n",
              "      <td>0.029237</td>\n",
              "      <td>0.105428</td>\n",
              "      <td>0.230432</td>\n",
              "      <td>0.622365</td>\n",
              "      <td>0.190519</td>\n",
              "      <td>0.573442</td>\n",
              "      <td>0.531088</td>\n",
              "      <td>0.169617</td>\n",
              "      <td>0.224070</td>\n",
              "      <td>0.204311</td>\n",
              "      <td>0.453146</td>\n",
              "      <td>0.723547</td>\n",
              "      <td>0</td>\n",
              "      <td>0.008878</td>\n",
              "      <td>0.457426</td>\n",
              "      <td>0.199645</td>\n",
              "      <td>0.301306</td>\n",
              "      <td>0.217489</td>\n",
              "      <td>0.139284</td>\n",
              "      <td>0.200483</td>\n",
              "      <td>0.057339</td>\n",
              "      <td>0.488494</td>\n",
              "      <td>0.116244</td>\n",
              "      <td>0.040174</td>\n",
              "      <td>0.015913</td>\n",
              "      <td>0.113177</td>\n",
              "      <td>0.137054</td>\n",
              "      <td>0.182741</td>\n",
              "      <td>0.250186</td>\n",
              "      <td>0.572463</td>\n",
              "      <td>...</td>\n",
              "      <td>1</td>\n",
              "      <td>1</td>\n",
              "      <td>1</td>\n",
              "      <td>0</td>\n",
              "      <td>1</td>\n",
              "      <td>0</td>\n",
              "      <td>1</td>\n",
              "      <td>0</td>\n",
              "      <td>1</td>\n",
              "      <td>0</td>\n",
              "      <td>1</td>\n",
              "      <td>1</td>\n",
              "      <td>0</td>\n",
              "      <td>1</td>\n",
              "      <td>0</td>\n",
              "      <td>0</td>\n",
              "      <td>0</td>\n",
              "      <td>0</td>\n",
              "      <td>0</td>\n",
              "      <td>1</td>\n",
              "      <td>1</td>\n",
              "      <td>1</td>\n",
              "      <td>1</td>\n",
              "      <td>0</td>\n",
              "      <td>0</td>\n",
              "      <td>0</td>\n",
              "      <td>1</td>\n",
              "      <td>1</td>\n",
              "      <td>1</td>\n",
              "      <td>0</td>\n",
              "      <td>0</td>\n",
              "      <td>0</td>\n",
              "      <td>0</td>\n",
              "      <td>0</td>\n",
              "      <td>0</td>\n",
              "      <td>0</td>\n",
              "      <td>1</td>\n",
              "      <td>0</td>\n",
              "      <td>0</td>\n",
              "      <td>0</td>\n",
              "    </tr>\n",
              "    <tr>\n",
              "      <th>3</th>\n",
              "      <td>0.182424</td>\n",
              "      <td>0.520976</td>\n",
              "      <td>0.095344</td>\n",
              "      <td>0.327742</td>\n",
              "      <td>0.741830</td>\n",
              "      <td>0.358711</td>\n",
              "      <td>0.270077</td>\n",
              "      <td>0.601662</td>\n",
              "      <td>0.297742</td>\n",
              "      <td>0.252829</td>\n",
              "      <td>0.550020</td>\n",
              "      <td>0.225594</td>\n",
              "      <td>0.199320</td>\n",
              "      <td>0.667981</td>\n",
              "      <td>0.298132</td>\n",
              "      <td>0.598126</td>\n",
              "      <td>0.332168</td>\n",
              "      <td>0.240837</td>\n",
              "      <td>0.209166</td>\n",
              "      <td>0.210716</td>\n",
              "      <td>0.529991</td>\n",
              "      <td>0.755527</td>\n",
              "      <td>0</td>\n",
              "      <td>0.007472</td>\n",
              "      <td>0.340279</td>\n",
              "      <td>0.181562</td>\n",
              "      <td>0.449528</td>\n",
              "      <td>0.178485</td>\n",
              "      <td>0.144564</td>\n",
              "      <td>0.198985</td>\n",
              "      <td>0.057868</td>\n",
              "      <td>0.135401</td>\n",
              "      <td>0.525434</td>\n",
              "      <td>0.312709</td>\n",
              "      <td>0.011679</td>\n",
              "      <td>0.201902</td>\n",
              "      <td>0.198581</td>\n",
              "      <td>0.234629</td>\n",
              "      <td>0.329007</td>\n",
              "      <td>0.539557</td>\n",
              "      <td>...</td>\n",
              "      <td>0</td>\n",
              "      <td>1</td>\n",
              "      <td>1</td>\n",
              "      <td>0</td>\n",
              "      <td>1</td>\n",
              "      <td>0</td>\n",
              "      <td>1</td>\n",
              "      <td>0</td>\n",
              "      <td>1</td>\n",
              "      <td>0</td>\n",
              "      <td>0</td>\n",
              "      <td>1</td>\n",
              "      <td>1</td>\n",
              "      <td>1</td>\n",
              "      <td>1</td>\n",
              "      <td>0</td>\n",
              "      <td>0</td>\n",
              "      <td>0</td>\n",
              "      <td>0</td>\n",
              "      <td>1</td>\n",
              "      <td>0</td>\n",
              "      <td>0</td>\n",
              "      <td>1</td>\n",
              "      <td>0</td>\n",
              "      <td>1</td>\n",
              "      <td>1</td>\n",
              "      <td>0</td>\n",
              "      <td>1</td>\n",
              "      <td>0</td>\n",
              "      <td>0</td>\n",
              "      <td>0</td>\n",
              "      <td>0</td>\n",
              "      <td>0</td>\n",
              "      <td>0</td>\n",
              "      <td>0</td>\n",
              "      <td>1</td>\n",
              "      <td>1</td>\n",
              "      <td>0</td>\n",
              "      <td>0</td>\n",
              "      <td>0</td>\n",
              "    </tr>\n",
              "    <tr>\n",
              "      <th>4</th>\n",
              "      <td>0.229329</td>\n",
              "      <td>0.336513</td>\n",
              "      <td>0.023511</td>\n",
              "      <td>0.300913</td>\n",
              "      <td>0.668738</td>\n",
              "      <td>0.481586</td>\n",
              "      <td>0.545660</td>\n",
              "      <td>0.667849</td>\n",
              "      <td>0.546045</td>\n",
              "      <td>0.202731</td>\n",
              "      <td>0.272089</td>\n",
              "      <td>0.107391</td>\n",
              "      <td>0.342519</td>\n",
              "      <td>0.634580</td>\n",
              "      <td>0.299089</td>\n",
              "      <td>0.622012</td>\n",
              "      <td>0.427928</td>\n",
              "      <td>0.275467</td>\n",
              "      <td>0.230340</td>\n",
              "      <td>0.192903</td>\n",
              "      <td>0.442950</td>\n",
              "      <td>0.650836</td>\n",
              "      <td>1</td>\n",
              "      <td>0.008275</td>\n",
              "      <td>0.296159</td>\n",
              "      <td>0.165649</td>\n",
              "      <td>0.251093</td>\n",
              "      <td>0.145741</td>\n",
              "      <td>0.140904</td>\n",
              "      <td>0.239641</td>\n",
              "      <td>0.055761</td>\n",
              "      <td>0.358701</td>\n",
              "      <td>0.118698</td>\n",
              "      <td>0.037337</td>\n",
              "      <td>0.013743</td>\n",
              "      <td>0.229668</td>\n",
              "      <td>0.135660</td>\n",
              "      <td>0.244730</td>\n",
              "      <td>0.243071</td>\n",
              "      <td>0.417749</td>\n",
              "      <td>...</td>\n",
              "      <td>1</td>\n",
              "      <td>1</td>\n",
              "      <td>0</td>\n",
              "      <td>0</td>\n",
              "      <td>0</td>\n",
              "      <td>0</td>\n",
              "      <td>0</td>\n",
              "      <td>0</td>\n",
              "      <td>1</td>\n",
              "      <td>0</td>\n",
              "      <td>1</td>\n",
              "      <td>0</td>\n",
              "      <td>0</td>\n",
              "      <td>1</td>\n",
              "      <td>1</td>\n",
              "      <td>0</td>\n",
              "      <td>0</td>\n",
              "      <td>0</td>\n",
              "      <td>0</td>\n",
              "      <td>0</td>\n",
              "      <td>0</td>\n",
              "      <td>0</td>\n",
              "      <td>1</td>\n",
              "      <td>1</td>\n",
              "      <td>1</td>\n",
              "      <td>0</td>\n",
              "      <td>1</td>\n",
              "      <td>0</td>\n",
              "      <td>1</td>\n",
              "      <td>1</td>\n",
              "      <td>0</td>\n",
              "      <td>0</td>\n",
              "      <td>0</td>\n",
              "      <td>0</td>\n",
              "      <td>1</td>\n",
              "      <td>0</td>\n",
              "      <td>0</td>\n",
              "      <td>1</td>\n",
              "      <td>0</td>\n",
              "      <td>0</td>\n",
              "    </tr>\n",
              "  </tbody>\n",
              "</table>\n",
              "<p>5 rows × 285 columns</p>\n",
              "</div>"
            ],
            "text/plain": [
              "         f0        f1        f2        f3  ...  f281  f282  f283  f284\n",
              "0  0.178216  0.435617  0.010230  0.202074  ...     1     1     1     0\n",
              "1  0.181250  0.476455  0.022413  0.283146  ...     0     0     0     0\n",
              "2  0.159721  0.451202  0.259649  0.365274  ...     1     0     0     0\n",
              "3  0.182424  0.520976  0.095344  0.327742  ...     1     0     0     0\n",
              "4  0.229329  0.336513  0.023511  0.300913  ...     0     1     0     0\n",
              "\n",
              "[5 rows x 285 columns]"
            ]
          },
          "metadata": {},
          "execution_count": 15
        }
      ]
    },
    {
      "cell_type": "code",
      "metadata": {
        "colab": {
          "base_uri": "https://localhost:8080/"
        },
        "id": "jfI8vNOp_enN",
        "outputId": "f04459bf-ccd3-4cca-fe1d-95f44adba95e"
      },
      "source": [
        "xgb_model.predict_proba(xt)"
      ],
      "execution_count": 16,
      "outputs": [
        {
          "output_type": "execute_result",
          "data": {
            "text/plain": [
              "array([[0.27866232, 0.7213377 ],\n",
              "       [0.71267277, 0.28732723],\n",
              "       [0.15023345, 0.84976655],\n",
              "       ...,\n",
              "       [0.60599124, 0.3940088 ],\n",
              "       [0.42225975, 0.57774025],\n",
              "       [0.5977391 , 0.40226087]], dtype=float32)"
            ]
          },
          "metadata": {},
          "execution_count": 16
        }
      ]
    },
    {
      "cell_type": "code",
      "metadata": {
        "colab": {
          "base_uri": "https://localhost:8080/"
        },
        "id": "v4T1qBhvWaAG",
        "outputId": "9825a0ed-7af8-4ba5-eaaa-6baa03fc806e"
      },
      "source": [
        "y_pred = clf.predict(xt)\n",
        "#y_pred = y_pred.T\n",
        "y_pred"
      ],
      "execution_count": null,
      "outputs": [
        {
          "output_type": "execute_result",
          "data": {
            "text/plain": [
              "array([1, 0, 1, ..., 0, 1, 1], dtype=int8)"
            ]
          },
          "metadata": {},
          "execution_count": 11
        }
      ]
    },
    {
      "cell_type": "code",
      "metadata": {
        "id": "wfKWhhJQFJLQ"
      },
      "source": [
        "preds = clf.predict_proba(xt)[True]\n",
        "#preds = np.max(clf.predict_proba(xt), axis=1)\n",
        "#preds = model.predict_proba(xt)[True]"
      ],
      "execution_count": null,
      "outputs": []
    },
    {
      "cell_type": "code",
      "metadata": {
        "id": "Nirjr95vA0Iz"
      },
      "source": [
        "preds = model.predict(xt)"
      ],
      "execution_count": null,
      "outputs": []
    },
    {
      "cell_type": "code",
      "metadata": {
        "colab": {
          "base_uri": "https://localhost:8080/"
        },
        "id": "g_GfJNupR85t",
        "outputId": "ca5ba7c0-f458-4112-ea73-72ca4787bcc8"
      },
      "source": [
        "preds"
      ],
      "execution_count": null,
      "outputs": [
        {
          "output_type": "execute_result",
          "data": {
            "text/plain": [
              "array([[0.61785775],\n",
              "       [0.34029114],\n",
              "       [0.8787991 ],\n",
              "       ...,\n",
              "       [0.23035598],\n",
              "       [0.5631825 ],\n",
              "       [0.3662232 ]], dtype=float32)"
            ]
          },
          "metadata": {},
          "execution_count": 25
        }
      ]
    },
    {
      "cell_type": "code",
      "metadata": {
        "colab": {
          "base_uri": "https://localhost:8080/",
          "height": 677
        },
        "id": "OACMYJYbQAnh",
        "outputId": "51ac2014-04dc-4458-a925-d87ee8fe1928"
      },
      "source": [
        "#Submission file creation\n",
        "submission = pd.read_csv('/content/sample_submission.csv')\n",
        "#submission[\"target\"] = preds[:, -1]\n",
        "submission[\"target\"] = preds\n",
        "submission.to_csv(\"submission.csv\", index=False)\n",
        "submission.tail(20)"
      ],
      "execution_count": null,
      "outputs": [
        {
          "output_type": "execute_result",
          "data": {
            "text/html": [
              "<div>\n",
              "<style scoped>\n",
              "    .dataframe tbody tr th:only-of-type {\n",
              "        vertical-align: middle;\n",
              "    }\n",
              "\n",
              "    .dataframe tbody tr th {\n",
              "        vertical-align: top;\n",
              "    }\n",
              "\n",
              "    .dataframe thead th {\n",
              "        text-align: right;\n",
              "    }\n",
              "</style>\n",
              "<table border=\"1\" class=\"dataframe\">\n",
              "  <thead>\n",
              "    <tr style=\"text-align: right;\">\n",
              "      <th></th>\n",
              "      <th>id</th>\n",
              "      <th>target</th>\n",
              "    </tr>\n",
              "  </thead>\n",
              "  <tbody>\n",
              "    <tr>\n",
              "      <th>499980</th>\n",
              "      <td>1499980</td>\n",
              "      <td>0.356220</td>\n",
              "    </tr>\n",
              "    <tr>\n",
              "      <th>499981</th>\n",
              "      <td>1499981</td>\n",
              "      <td>0.072712</td>\n",
              "    </tr>\n",
              "    <tr>\n",
              "      <th>499982</th>\n",
              "      <td>1499982</td>\n",
              "      <td>0.147586</td>\n",
              "    </tr>\n",
              "    <tr>\n",
              "      <th>499983</th>\n",
              "      <td>1499983</td>\n",
              "      <td>0.997401</td>\n",
              "    </tr>\n",
              "    <tr>\n",
              "      <th>499984</th>\n",
              "      <td>1499984</td>\n",
              "      <td>0.934497</td>\n",
              "    </tr>\n",
              "    <tr>\n",
              "      <th>499985</th>\n",
              "      <td>1499985</td>\n",
              "      <td>0.983599</td>\n",
              "    </tr>\n",
              "    <tr>\n",
              "      <th>499986</th>\n",
              "      <td>1499986</td>\n",
              "      <td>0.158760</td>\n",
              "    </tr>\n",
              "    <tr>\n",
              "      <th>499987</th>\n",
              "      <td>1499987</td>\n",
              "      <td>0.339495</td>\n",
              "    </tr>\n",
              "    <tr>\n",
              "      <th>499988</th>\n",
              "      <td>1499988</td>\n",
              "      <td>0.080509</td>\n",
              "    </tr>\n",
              "    <tr>\n",
              "      <th>499989</th>\n",
              "      <td>1499989</td>\n",
              "      <td>0.967731</td>\n",
              "    </tr>\n",
              "    <tr>\n",
              "      <th>499990</th>\n",
              "      <td>1499990</td>\n",
              "      <td>0.312446</td>\n",
              "    </tr>\n",
              "    <tr>\n",
              "      <th>499991</th>\n",
              "      <td>1499991</td>\n",
              "      <td>0.843274</td>\n",
              "    </tr>\n",
              "    <tr>\n",
              "      <th>499992</th>\n",
              "      <td>1499992</td>\n",
              "      <td>0.833913</td>\n",
              "    </tr>\n",
              "    <tr>\n",
              "      <th>499993</th>\n",
              "      <td>1499993</td>\n",
              "      <td>0.423215</td>\n",
              "    </tr>\n",
              "    <tr>\n",
              "      <th>499994</th>\n",
              "      <td>1499994</td>\n",
              "      <td>0.336650</td>\n",
              "    </tr>\n",
              "    <tr>\n",
              "      <th>499995</th>\n",
              "      <td>1499995</td>\n",
              "      <td>0.988156</td>\n",
              "    </tr>\n",
              "    <tr>\n",
              "      <th>499996</th>\n",
              "      <td>1499996</td>\n",
              "      <td>0.813247</td>\n",
              "    </tr>\n",
              "    <tr>\n",
              "      <th>499997</th>\n",
              "      <td>1499997</td>\n",
              "      <td>0.230356</td>\n",
              "    </tr>\n",
              "    <tr>\n",
              "      <th>499998</th>\n",
              "      <td>1499998</td>\n",
              "      <td>0.563182</td>\n",
              "    </tr>\n",
              "    <tr>\n",
              "      <th>499999</th>\n",
              "      <td>1499999</td>\n",
              "      <td>0.366223</td>\n",
              "    </tr>\n",
              "  </tbody>\n",
              "</table>\n",
              "</div>"
            ],
            "text/plain": [
              "             id    target\n",
              "499980  1499980  0.356220\n",
              "499981  1499981  0.072712\n",
              "499982  1499982  0.147586\n",
              "499983  1499983  0.997401\n",
              "499984  1499984  0.934497\n",
              "499985  1499985  0.983599\n",
              "499986  1499986  0.158760\n",
              "499987  1499987  0.339495\n",
              "499988  1499988  0.080509\n",
              "499989  1499989  0.967731\n",
              "499990  1499990  0.312446\n",
              "499991  1499991  0.843274\n",
              "499992  1499992  0.833913\n",
              "499993  1499993  0.423215\n",
              "499994  1499994  0.336650\n",
              "499995  1499995  0.988156\n",
              "499996  1499996  0.813247\n",
              "499997  1499997  0.230356\n",
              "499998  1499998  0.563182\n",
              "499999  1499999  0.366223"
            ]
          },
          "metadata": {},
          "execution_count": 30
        }
      ]
    },
    {
      "cell_type": "code",
      "metadata": {
        "colab": {
          "base_uri": "https://localhost:8080/",
          "height": 366
        },
        "id": "ky95Mwz2HFIe",
        "outputId": "0d3d3c0b-655a-4d36-8a9a-24410fa3d2ea"
      },
      "source": [
        "from sklearn.metrics import roc_auc_score\n",
        "auc1 = roc_auc_score(preds, model.predict(xt))\n",
        "#auc2 = roc_auc_score(y, clf.decision_function(xt))"
      ],
      "execution_count": null,
      "outputs": [
        {
          "output_type": "error",
          "ename": "ValueError",
          "evalue": "ignored",
          "traceback": [
            "\u001b[0;31m---------------------------------------------------------------------------\u001b[0m",
            "\u001b[0;31mValueError\u001b[0m                                Traceback (most recent call last)",
            "\u001b[0;32m<ipython-input-29-d1a4761df836>\u001b[0m in \u001b[0;36m<module>\u001b[0;34m()\u001b[0m\n\u001b[1;32m      1\u001b[0m \u001b[0;32mfrom\u001b[0m \u001b[0msklearn\u001b[0m\u001b[0;34m.\u001b[0m\u001b[0mmetrics\u001b[0m \u001b[0;32mimport\u001b[0m \u001b[0mroc_auc_score\u001b[0m\u001b[0;34m\u001b[0m\u001b[0;34m\u001b[0m\u001b[0m\n\u001b[0;32m----> 2\u001b[0;31m \u001b[0mauc1\u001b[0m \u001b[0;34m=\u001b[0m \u001b[0mroc_auc_score\u001b[0m\u001b[0;34m(\u001b[0m\u001b[0mpreds\u001b[0m\u001b[0;34m,\u001b[0m \u001b[0mmodel\u001b[0m\u001b[0;34m.\u001b[0m\u001b[0mpredict\u001b[0m\u001b[0;34m(\u001b[0m\u001b[0mxt\u001b[0m\u001b[0;34m)\u001b[0m\u001b[0;34m)\u001b[0m\u001b[0;34m\u001b[0m\u001b[0;34m\u001b[0m\u001b[0m\n\u001b[0m\u001b[1;32m      3\u001b[0m \u001b[0;31m#auc2 = roc_auc_score(y, clf.decision_function(xt))\u001b[0m\u001b[0;34m\u001b[0m\u001b[0;34m\u001b[0m\u001b[0;34m\u001b[0m\u001b[0m\n",
            "\u001b[0;32m/usr/local/lib/python3.7/dist-packages/sklearn/metrics/_ranking.py\u001b[0m in \u001b[0;36mroc_auc_score\u001b[0;34m(y_true, y_score, average, sample_weight, max_fpr, multi_class, labels)\u001b[0m\n\u001b[1;32m    393\u001b[0m                                              max_fpr=max_fpr),\n\u001b[1;32m    394\u001b[0m                                      \u001b[0my_true\u001b[0m\u001b[0;34m,\u001b[0m \u001b[0my_score\u001b[0m\u001b[0;34m,\u001b[0m \u001b[0maverage\u001b[0m\u001b[0;34m,\u001b[0m\u001b[0;34m\u001b[0m\u001b[0;34m\u001b[0m\u001b[0m\n\u001b[0;32m--> 395\u001b[0;31m                                      sample_weight=sample_weight)\n\u001b[0m\u001b[1;32m    396\u001b[0m \u001b[0;34m\u001b[0m\u001b[0m\n\u001b[1;32m    397\u001b[0m \u001b[0;34m\u001b[0m\u001b[0m\n",
            "\u001b[0;32m/usr/local/lib/python3.7/dist-packages/sklearn/metrics/_base.py\u001b[0m in \u001b[0;36m_average_binary_score\u001b[0;34m(binary_metric, y_true, y_score, average, sample_weight)\u001b[0m\n\u001b[1;32m     72\u001b[0m     \u001b[0my_type\u001b[0m \u001b[0;34m=\u001b[0m \u001b[0mtype_of_target\u001b[0m\u001b[0;34m(\u001b[0m\u001b[0my_true\u001b[0m\u001b[0;34m)\u001b[0m\u001b[0;34m\u001b[0m\u001b[0;34m\u001b[0m\u001b[0m\n\u001b[1;32m     73\u001b[0m     \u001b[0;32mif\u001b[0m \u001b[0my_type\u001b[0m \u001b[0;32mnot\u001b[0m \u001b[0;32min\u001b[0m \u001b[0;34m(\u001b[0m\u001b[0;34m\"binary\"\u001b[0m\u001b[0;34m,\u001b[0m \u001b[0;34m\"multilabel-indicator\"\u001b[0m\u001b[0;34m)\u001b[0m\u001b[0;34m:\u001b[0m\u001b[0;34m\u001b[0m\u001b[0;34m\u001b[0m\u001b[0m\n\u001b[0;32m---> 74\u001b[0;31m         \u001b[0;32mraise\u001b[0m \u001b[0mValueError\u001b[0m\u001b[0;34m(\u001b[0m\u001b[0;34m\"{0} format is not supported\"\u001b[0m\u001b[0;34m.\u001b[0m\u001b[0mformat\u001b[0m\u001b[0;34m(\u001b[0m\u001b[0my_type\u001b[0m\u001b[0;34m)\u001b[0m\u001b[0;34m)\u001b[0m\u001b[0;34m\u001b[0m\u001b[0;34m\u001b[0m\u001b[0m\n\u001b[0m\u001b[1;32m     75\u001b[0m \u001b[0;34m\u001b[0m\u001b[0m\n\u001b[1;32m     76\u001b[0m     \u001b[0;32mif\u001b[0m \u001b[0my_type\u001b[0m \u001b[0;34m==\u001b[0m \u001b[0;34m\"binary\"\u001b[0m\u001b[0;34m:\u001b[0m\u001b[0;34m\u001b[0m\u001b[0;34m\u001b[0m\u001b[0m\n",
            "\u001b[0;31mValueError\u001b[0m: continuous format is not supported"
          ]
        }
      ]
    },
    {
      "cell_type": "code",
      "metadata": {
        "id": "PpGIv30vXNcB"
      },
      "source": [
        "pca = PCA(n_components=95)\n",
        "xt_pca = pca.fit_transform(xt)\n",
        "x_test = pd.DataFrame(xt_pca)\n",
        "x_test.head()"
      ],
      "execution_count": null,
      "outputs": []
    },
    {
      "cell_type": "code",
      "metadata": {
        "colab": {
          "base_uri": "https://localhost:8080/"
        },
        "id": "Xw9qmeR8yFne",
        "outputId": "2f359533-eac7-4a65-86a7-94b8041c1c0f"
      },
      "source": [
        "x_test.shape"
      ],
      "execution_count": null,
      "outputs": [
        {
          "output_type": "execute_result",
          "data": {
            "text/plain": [
              "(500000, 95)"
            ]
          },
          "metadata": {},
          "execution_count": 33
        }
      ]
    },
    {
      "cell_type": "code",
      "metadata": {
        "id": "lwuj4rfEKkKI",
        "colab": {
          "base_uri": "https://localhost:8080/"
        },
        "outputId": "35000c40-51c3-4bdc-ef83-243f381cd854"
      },
      "source": [
        "clf.score(xt,y_pred)"
      ],
      "execution_count": null,
      "outputs": [
        {
          "output_type": "execute_result",
          "data": {
            "text/plain": [
              "1.0"
            ]
          },
          "metadata": {},
          "execution_count": 30
        }
      ]
    },
    {
      "cell_type": "code",
      "metadata": {
        "id": "99MveOXXX6Vd"
      },
      "source": [
        "from sklearn.metrics import accuracy_score\n",
        "print('Accuracy: {:.2f}'.format(accuracy_score(yt, y_pred)))"
      ],
      "execution_count": null,
      "outputs": []
    },
    {
      "cell_type": "code",
      "metadata": {
        "id": "klHb2AUXFxP7"
      },
      "source": [
        "from sklearn.metrics import confusion_matrix\n",
        "from mlxtend.plotting import plot_confusion_matrix\n",
        "conf_matrix = confusion_matrix(y_true=yt, y_pred=y_pred)\n",
        "\n",
        "fig, ax = plot_confusion_matrix(conf_mat=conf_matrix, figsize=(6, 6), cmap=plt.cm.Blues)\n",
        "plt.xlabel('Predictions', fontsize=18)\n",
        "plt.ylabel('Actuals', fontsize=18)\n",
        "plt.title('Confusion Matrix', fontsize=18)\n",
        "plt.show()"
      ],
      "execution_count": null,
      "outputs": []
    },
    {
      "cell_type": "code",
      "metadata": {
        "id": "Cbx2FWbnZAQn",
        "colab": {
          "base_uri": "https://localhost:8080/",
          "height": 298
        },
        "outputId": "ec87ff63-df62-4f3b-f29f-6f8d9bd96e16"
      },
      "source": [
        "metrics.plot_roc_curve(clf, xt, y_pred)"
      ],
      "execution_count": null,
      "outputs": [
        {
          "output_type": "execute_result",
          "data": {
            "text/plain": [
              "<sklearn.metrics._plot.roc_curve.RocCurveDisplay at 0x7f3d66ac5cd0>"
            ]
          },
          "metadata": {},
          "execution_count": 32
        },
        {
          "output_type": "display_data",
          "data": {
            "image/png": "[encoded data removed]",
            "text/plain": [
              "<Figure size 432x288 with 1 Axes>"
            ]
          },
          "metadata": {
            "needs_background": "light"
          }
        }
      ]
    }
  ]
}