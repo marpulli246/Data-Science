{
 "cells": [
  {
   "cell_type": "markdown",
   "metadata": {},
   "source": [
    "### This script saves Bureau of Labor Statistics data into dataframe after an API call. It can read multiple series of data. Data is then available as a .csv file to import into Power BI and create different visuals."
   ]
  },
  {
   "cell_type": "code",
   "execution_count": 1,
   "metadata": {},
   "outputs": [],
   "source": [
    "import pandas as pd\n",
    "import numpy as np\n",
    "import requests\n",
    "import json\n",
    "from prettytable import PrettyTable\n",
    "import matplotlib.pyplot as plt"
   ]
  },
  {
   "cell_type": "code",
   "execution_count": 75,
   "metadata": {},
   "outputs": [],
   "source": [
    "#Get the data from BLS web site using public API\n",
    "headers = {'Content-type': 'application/json'}\n",
    "series = ['CUUR0000SA0','SUUR0000SA0','PRS85006092', 'WPUFD49104']\n",
    "start_year = '2013'\n",
    "end_year = '2023'\n",
    "data = json.dumps({\"seriesid\": series,\"startyear\":start_year, \"endyear\":end_year})\n",
    "p = requests.post('https://api.bls.gov/publicAPI/v2/timeseries/data/', data=data, headers=headers)\n",
    "json_data = json.loads(p.text)"
   ]
  },
  {
   "cell_type": "code",
   "execution_count": 76,
   "metadata": {},
   "outputs": [],
   "source": [
    "#Save the data in csv files named after series\n",
    "for series in json_data['Results']['series']:\n",
    "    x=PrettyTable([\"series id\",\"year\",\"period\",\"value\",\"footnotes\"],border=False, header=True)\n",
    "    seriesId = series['seriesID']\n",
    "    for item in series['data']:\n",
    "        year = item['year']\n",
    "        period = item['period']\n",
    "        value = item['value']\n",
    "        footnotes=\"\"\n",
    "        for footnote in item['footnotes']:\n",
    "            if footnote:\n",
    "                footnotes = footnotes + footnote['text'] + ','\n",
    "        x.add_row([seriesId,year,period,value,footnotes[0:-1]])\n",
    "    with open(seriesId + '.csv', 'w', newline='') as f_output:\n",
    "        f_output.write(x.get_csv_string())"
   ]
  },
  {
   "cell_type": "code",
   "execution_count": 77,
   "metadata": {},
   "outputs": [
    {
     "data": {
      "text/plain": [
       "['series id', 'year', 'period', 'value', 'footnotes']"
      ]
     },
     "execution_count": 77,
     "metadata": {},
     "output_type": "execute_result"
    }
   ],
   "source": [
    "#Open one file\n",
    "#col_names=[\"series id\",\"year\",\"period\",\"value\",\"footnotes\"]\n",
    "df=pd.read_csv('CIU1010000000000A.csv')\n",
    "list(df.columns)"
   ]
  },
  {
   "cell_type": "code",
   "execution_count": 78,
   "metadata": {},
   "outputs": [],
   "source": [
    "#Add date colum into data frame using period and year columns\n",
    "#Monthly data\n",
    "if df['period'].nunique() == 12:\n",
    "    df['date'] = pd.to_datetime(df['period'].astype(str).str[-2:]+'-'+'1'+'-'+df['year'].astype(str))\n",
    "\n",
    "#Quarterly data\n",
    "if df['period'].nunique() == 4:\n",
    "    # for quarters do this period[:1]+str(int(period[-2:])*3)\n",
    "    df['period'] = df['period'].str.replace('0', '')\n",
    "    df['date'] = pd.PeriodIndex(df['year'].astype(str)+'-'+df['period'].astype(str), freq='Q').to_timestamp()"
   ]
  },
  {
   "cell_type": "code",
   "execution_count": 79,
   "metadata": {},
   "outputs": [
    {
     "data": {
      "text/html": [
       "<div>\n",
       "<style scoped>\n",
       "    .dataframe tbody tr th:only-of-type {\n",
       "        vertical-align: middle;\n",
       "    }\n",
       "\n",
       "    .dataframe tbody tr th {\n",
       "        vertical-align: top;\n",
       "    }\n",
       "\n",
       "    .dataframe thead th {\n",
       "        text-align: right;\n",
       "    }\n",
       "</style>\n",
       "<table border=\"1\" class=\"dataframe\">\n",
       "  <thead>\n",
       "    <tr style=\"text-align: right;\">\n",
       "      <th></th>\n",
       "      <th>series id</th>\n",
       "      <th>year</th>\n",
       "      <th>period</th>\n",
       "      <th>value</th>\n",
       "      <th>footnotes</th>\n",
       "      <th>date</th>\n",
       "    </tr>\n",
       "  </thead>\n",
       "  <tbody>\n",
       "    <tr>\n",
       "      <th>0</th>\n",
       "      <td>CIU1010000000000A</td>\n",
       "      <td>2022</td>\n",
       "      <td>Q4</td>\n",
       "      <td>5.1</td>\n",
       "      <td>NaN</td>\n",
       "      <td>2022-10-01</td>\n",
       "    </tr>\n",
       "    <tr>\n",
       "      <th>1</th>\n",
       "      <td>CIU1010000000000A</td>\n",
       "      <td>2022</td>\n",
       "      <td>Q3</td>\n",
       "      <td>5.0</td>\n",
       "      <td>NaN</td>\n",
       "      <td>2022-07-01</td>\n",
       "    </tr>\n",
       "    <tr>\n",
       "      <th>2</th>\n",
       "      <td>CIU1010000000000A</td>\n",
       "      <td>2022</td>\n",
       "      <td>Q2</td>\n",
       "      <td>5.1</td>\n",
       "      <td>NaN</td>\n",
       "      <td>2022-04-01</td>\n",
       "    </tr>\n",
       "    <tr>\n",
       "      <th>3</th>\n",
       "      <td>CIU1010000000000A</td>\n",
       "      <td>2022</td>\n",
       "      <td>Q1</td>\n",
       "      <td>4.5</td>\n",
       "      <td>NaN</td>\n",
       "      <td>2022-01-01</td>\n",
       "    </tr>\n",
       "    <tr>\n",
       "      <th>4</th>\n",
       "      <td>CIU1010000000000A</td>\n",
       "      <td>2021</td>\n",
       "      <td>Q4</td>\n",
       "      <td>4.0</td>\n",
       "      <td>NaN</td>\n",
       "      <td>2021-10-01</td>\n",
       "    </tr>\n",
       "  </tbody>\n",
       "</table>\n",
       "</div>"
      ],
      "text/plain": [
       "           series id  year period  value  footnotes       date\n",
       "0  CIU1010000000000A  2022     Q4    5.1        NaN 2022-10-01\n",
       "1  CIU1010000000000A  2022     Q3    5.0        NaN 2022-07-01\n",
       "2  CIU1010000000000A  2022     Q2    5.1        NaN 2022-04-01\n",
       "3  CIU1010000000000A  2022     Q1    4.5        NaN 2022-01-01\n",
       "4  CIU1010000000000A  2021     Q4    4.0        NaN 2021-10-01"
      ]
     },
     "execution_count": 79,
     "metadata": {},
     "output_type": "execute_result"
    }
   ],
   "source": [
    "df.head()"
   ]
  },
  {
   "cell_type": "code",
   "execution_count": 80,
   "metadata": {},
   "outputs": [
    {
     "name": "stdout",
     "output_type": "stream",
     "text": [
      "<class 'pandas.core.frame.DataFrame'>\n",
      "RangeIndex: 40 entries, 0 to 39\n",
      "Data columns (total 6 columns):\n",
      " #   Column     Non-Null Count  Dtype         \n",
      "---  ------     --------------  -----         \n",
      " 0   series id  40 non-null     object        \n",
      " 1   year       40 non-null     int64         \n",
      " 2   period     40 non-null     object        \n",
      " 3   value      40 non-null     float64       \n",
      " 4   footnotes  0 non-null      float64       \n",
      " 5   date       40 non-null     datetime64[ns]\n",
      "dtypes: datetime64[ns](1), float64(2), int64(1), object(2)\n",
      "memory usage: 2.0+ KB\n"
     ]
    }
   ],
   "source": [
    "df.info()"
   ]
  },
  {
   "cell_type": "code",
   "execution_count": 81,
   "metadata": {},
   "outputs": [
    {
     "data": {
      "image/png": "[encoded data removed]",
      "text/plain": [
       "<Figure size 432x288 with 1 Axes>"
      ]
     },
     "metadata": {
      "needs_background": "light"
     },
     "output_type": "display_data"
    }
   ],
   "source": [
    "#Plot the data to find all is ok. If it looks good put in your dashboard!\n",
    "df.plot(x='date',y='value')\n",
    "plt.show()"
   ]
  }
 ],
 "metadata": {
  "kernelspec": {
   "display_name": "Python 3",
   "language": "python",
   "name": "python3"
  },
  "language_info": {
   "codemirror_mode": {
    "name": "ipython",
    "version": 3
   },
   "file_extension": ".py",
   "mimetype": "text/x-python",
   "name": "python",
   "nbconvert_exporter": "python",
   "pygments_lexer": "ipython3",
   "version": "3.7.6"
  }
 },
 "nbformat": 4,
 "nbformat_minor": 4
}
